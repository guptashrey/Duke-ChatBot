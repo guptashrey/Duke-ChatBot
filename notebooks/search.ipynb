{
 "cells": [
  {
   "cell_type": "code",
   "execution_count": 1,
   "metadata": {},
   "outputs": [
    {
     "name": "stderr",
     "output_type": "stream",
     "text": [
      "/home/ec2-user/anaconda3/envs/nlp/lib/python3.8/site-packages/tqdm/auto.py:21: TqdmWarning: IProgress not found. Please update jupyter and ipywidgets. See https://ipywidgets.readthedocs.io/en/stable/user_install.html\n",
      "  from .autonotebook import tqdm as notebook_tqdm\n"
     ]
    }
   ],
   "source": [
    "from haystack import Pipeline\n",
    "from haystack.nodes import FARMReader\n",
    "from haystack.nodes import DensePassageRetriever\n",
    "import os\n",
    "from haystack.document_stores import ElasticsearchDocumentStore\n",
    "import pandas as pd"
   ]
  },
  {
   "cell_type": "code",
   "execution_count": 2,
   "metadata": {},
   "outputs": [],
   "source": [
    "host = os.environ.get(\"ELASTICSEARCH_HOST\", \"localhost\")"
   ]
  },
  {
   "cell_type": "code",
   "execution_count": 3,
   "metadata": {},
   "outputs": [
    {
     "name": "stderr",
     "output_type": "stream",
     "text": [
      "/home/ec2-user/anaconda3/envs/nlp/lib/python3.8/site-packages/elasticsearch/connection/base.py:200: ElasticsearchWarning: Elasticsearch built-in security features are not enabled. Without authentication, your cluster could be accessible to anyone. See https://www.elastic.co/guide/en/elasticsearch/reference/7.17/security-minimal-setup.html to enable security.\n",
      "  warnings.warn(message, category=ElasticsearchWarning)\n"
     ]
    }
   ],
   "source": [
    "document_store = ElasticsearchDocumentStore(\n",
    "        host=host,\n",
    "        username=\"\",\n",
    "        password=\"\",\n",
    "        index=\"document\",\n",
    "        similarity=\"dot_product\",\n",
    "        embedding_dim=768,\n",
    "    )"
   ]
  },
  {
   "cell_type": "code",
   "execution_count": 4,
   "metadata": {},
   "outputs": [
    {
     "name": "stderr",
     "output_type": "stream",
     "text": [
      "The tokenizer class you load from this checkpoint is not the same type as the class this function is called from. It may result in unexpected tokenization. \n",
      "The tokenizer class you load from this checkpoint is 'DPRQuestionEncoderTokenizer'. \n",
      "The class this function is called from is 'DPRContextEncoderTokenizerFast'.\n"
     ]
    }
   ],
   "source": [
    "retriever = DensePassageRetriever(\n",
    "    document_store=document_store,\n",
    "    query_embedding_model=\"facebook/dpr-question_encoder-single-nq-base\",\n",
    "    passage_embedding_model=\"facebook/dpr-ctx_encoder-single-nq-base\"\n",
    ")"
   ]
  },
  {
   "cell_type": "code",
   "execution_count": 5,
   "metadata": {},
   "outputs": [
    {
     "name": "stderr",
     "output_type": "stream",
     "text": [
      "Downloading (…)lve/main/config.json: 100%|██████████| 571/571 [00:00<00:00, 77.4kB/s]\n",
      "Downloading pytorch_model.bin: 100%|██████████| 496M/496M [00:01<00:00, 327MB/s] \n",
      "Downloading (…)okenizer_config.json: 100%|██████████| 79.0/79.0 [00:00<00:00, 31.1kB/s]\n",
      "Downloading (…)olve/main/vocab.json: 100%|██████████| 899k/899k [00:00<00:00, 55.8MB/s]\n",
      "Downloading (…)olve/main/merges.txt: 100%|██████████| 456k/456k [00:00<00:00, 85.0MB/s]\n",
      "Downloading (…)cial_tokens_map.json: 100%|██████████| 772/772 [00:00<00:00, 330kB/s]\n"
     ]
    }
   ],
   "source": [
    "reader = FARMReader(model_name_or_path=\"deepset/roberta-base-squad2\", use_gpu=True)"
   ]
  },
  {
   "cell_type": "code",
   "execution_count": 6,
   "metadata": {},
   "outputs": [],
   "source": [
    "# initialize qna pipeline for reddit posts\n",
    "querying_pipeline = Pipeline()\n",
    "querying_pipeline.add_node(component=retriever, name=\"Retriever\", inputs=[\"Query\"])\n",
    "querying_pipeline.add_node(component=reader, name=\"Reader\", inputs=[\"Retriever\"])"
   ]
  },
  {
   "cell_type": "code",
   "execution_count": 7,
   "metadata": {},
   "outputs": [],
   "source": [
    "query = \"When was Pratt School of Engineering founded?\""
   ]
  },
  {
   "cell_type": "code",
   "execution_count": 8,
   "metadata": {},
   "outputs": [
    {
     "name": "stderr",
     "output_type": "stream",
     "text": [
      "Inferencing Samples: 100%|██████████| 1/1 [00:00<00:00,  2.78 Batches/s]\n"
     ]
    }
   ],
   "source": [
    "prediction = querying_pipeline.run(\n",
    "    query=query,\n",
    "    params={\n",
    "        \"Retriever\": {\"top_k\": 10},\n",
    "        \"Reader\": {\"top_k\": 5}\n",
    "        }\n",
    ")"
   ]
  },
  {
   "cell_type": "code",
   "execution_count": 9,
   "metadata": {},
   "outputs": [
    {
     "data": {
      "text/plain": [
       "{'query': 'When was Pratt School of Engineering founded?',\n",
       " 'no_ans_gap': 6.074307441711426,\n",
       " 'answers': [<Answer {'answer': '1851', 'type': 'extractive', 'score': 0.950855016708374, 'context': 'ering at Duke The Pratt School of Engineering traces its history back to 1851 when Normal College, a forerunner of Duke University, advertised a Class', 'offsets_in_document': [{'start': 919, 'end': 923}], 'offsets_in_context': [{'start': 73, 'end': 77}], 'document_ids': ['8ac5c618edf87ef60f6cfb703ad8d98e'], 'meta': {'_split_id': 0}}>,\n",
       "  <Answer {'answer': '1947', 'type': 'extractive', 'score': 0.6894222497940063, 'context': 'ke as engineering dean in 1999. Later that year the school was named for 1947 electrical engineering graduate and philanthropist Edmund T. Pratt Jr., ', 'offsets_in_document': [{'start': 864, 'end': 868}], 'offsets_in_context': [{'start': 73, 'end': 77}], 'document_ids': ['6ad9a9a0d75efa87f008c3a84094a997'], 'meta': {'_split_id': 3}}>,\n",
       "  <Answer {'answer': '1937', 'type': 'extractive', 'score': 0.08363790065050125, 'context': 'an of the new college. With engineering alumni active and organized from 1937 onward and with a student body that had grown to 201 in 1939, the colleg', 'offsets_in_document': [{'start': 684, 'end': 688}], 'offsets_in_context': [{'start': 73, 'end': 77}], 'document_ids': ['9b3f892980e6dae18f7b1373533408d7'], 'meta': {'_split_id': 1}}>,\n",
       "  <Answer {'answer': '1966', 'type': 'extractive', 'score': 0.049352504312992096, 'context': \"pointed dean in 1963. The college was named the School of Engineering in 1966 and the school's first black students graduated two years later. The Div\", 'offsets_in_document': [{'start': 1014, 'end': 1018}], 'offsets_in_context': [{'start': 73, 'end': 77}], 'document_ids': ['7bab54b0d21cad535e31cd66d98f755b'], 'meta': {'_split_id': 2}}>,\n",
       "  <Answer {'answer': '1937', 'type': 'extractive', 'score': 0.013331236317753792, 'context': 'udying engineering. When Duke established the Division of Engineering in 1937, there were 167 students. ## A College Is Born Following a study that co', 'offsets_in_document': [{'start': 281, 'end': 285}], 'offsets_in_context': [{'start': 73, 'end': 77}], 'document_ids': ['9b3f892980e6dae18f7b1373533408d7'], 'meta': {'_split_id': 1}}>],\n",
       " 'documents': [<Document: {'content': \"## You are here Home » Alumni & Giving # Duke Engineering: A History From its beginnings more than 75 years ago, Duke's Pratt School of Engineering has grown into one of the fastest-rising in the nation On June 3, 1939, the Duke University Board of Trustees approved the creation of the College of Engineering—establishing the school as a cornerstone of the young university. From its beginnings as an undergraduate college with just three faculty members in each department and only 201 students, the School of Engineering has grown into one of the nation’s fastest-rising engineering programs, with nearly 3,000 faculty, staff, and students, 15,000 accomplished alumni, a vibrant research engine and a record of trailblazing achievements that benefit people all over the world. View a text version of this timeline. ## A Brief History of Engineering at Duke The Pratt School of Engineering traces its history back to 1851 when Normal College, a forerunner of Duke University, advertised a Classical course which included engineering for seniors. Normal College became Trinity College in 1859, and engineering was introduced in 1887. The first student to graduate with an engineering degree was C.E.D. Egerton in 1903. When Trinity became Duke University in 1924, engineering underwent vigorous development. In 1927, engineering was organized into separate departments of civil and electrical engineering. The Department of Mechanical Engineering started in 1931. Growth in engineering at Duke in the 1930s closely paralleled the larger departments in arts and sciences. \", 'content_type': 'text', 'score': 0.6842600275997561, 'meta': {'_split_id': 0}, 'id_hash_keys': ['content'], 'embedding': None, 'id': '8ac5c618edf87ef60f6cfb703ad8d98e'}>,\n",
       "  <Document: {'content': 'In 1974, Aleksander S. Vesic, who joined Duke as a professor of civil engineering 10 years earlier, was appointed dean. After Vesic died in 1982, Pearsall stepped in as interim dean until Earl H. Dowell moved to Duke from Princeton to become dean in 1983. ## A 21st-Century Foundation The Nello Teer Library Building opened in 1984. Three years later, the Center for Emerging Cardiovascular Technology at Duke becomes the first National Science Foundation Engineering Research Center (ERC) focused on biomedical research. In 1992, the Hudson Center for Engineering Education opened, followed in 1994 by the Levine Science Research Center, which provided additional space for growing school. In 1997, the Master of Engineering Management Program was established. Kristina M. Johnson joined Duke as engineering dean in 1999. Later that year the school was named for 1947 electrical engineering graduate and philanthropist Edmund T. Pratt Jr., who endowed the school with $35 million. It was at the time the second-largest gift in the university’s history, surpassed only by the original gift from James B. Duke to transform Trinity College into Duke University. The Fitzpatrick Center for Photonics and Communications Systems was established in 2000. Teaching and research space doubled with the 2004 opening of the 322,000-square-foot Fitzpatrick Center for Interdisciplinary Engineering, Medicine and Applied Sciences (FCIEMAS). ', 'content_type': 'text', 'score': 0.6695001093427642, 'meta': {'_split_id': 3}, 'id_hash_keys': ['content'], 'embedding': None, 'id': '6ad9a9a0d75efa87f008c3a84094a997'}>,\n",
       "  <Document: {'content': \"Teaching and research space doubled with the 2004 opening of the 322,000-square-foot Fitzpatrick Center for Interdisciplinary Engineering, Medicine and Applied Sciences (FCIEMAS). In recent years the school has dramatically grown its external research funding and major nationally-awarded research centers, its faculty size and prominence, and its student body and selectivity, making Pratt the fastest- rising engineering school in the country in terms of national rankings. ## Our History * Timeline * Commemorative Book ### Duke Engineering Through the Years Take an online view of our 52-page commemorative book, produced in celebration of Duke Engineering's 75th anniversary. ### Timeline – Text Version Browse more than 75 years of Duke Engineering history. outrageously ambitious * * * * * © Copyright 2011-2023 Duke University | Pratt Intranet\", 'content_type': 'text', 'score': 0.6679870914859393, 'meta': {'_split_id': 4}, 'id_hash_keys': ['content'], 'embedding': None, 'id': 'b5c13e0776f002cedbfeed927620a055'}>,\n",
       "  <Document: {'content': \"## The Postwar Years Engineering at Duke grew quickly during World War II in response to a national shortage of engineers. The first women graduated from the College of Engineering in 1946, and all three engineering departments moved to West Campus in 1947 to a new building that became known as “Old Red” (now named Hudson Hall). In 1951, the university created the Research and Development Program for Engineering, which eventually led to a graduate program and was the foundation for what would become a major national engineering research effort. The R&D program was led by Walter J. Seeley, who came to Duke in 1925 to teach electrical engineering. He became dean in 1953. ## The Changing '60s The doctor of philosophy degree was offered in electrical engineering in 1960, followed by a Ph.D. in civil engineering four years later. James L. Meriam, a professor of mechanical engineering at the University of California, Berkeley, was appointed dean in 1963. The college was named the School of Engineering in 1966 and the school's first black students graduated two years later. The Division of Biomedical Engineering was established in 1967 and in 1971 it became a department--the first ever at a United States university. George Pearsall was named dean in 1969 and three years later the Engineering Annex to Hudson Hall opened. In 1974, Aleksander S. Vesic, who joined Duke as a professor of civil engineering 10 years earlier, was appointed dean. \", 'content_type': 'text', 'score': 0.6649212424771971, 'meta': {'_split_id': 2}, 'id_hash_keys': ['content'], 'embedding': None, 'id': '7bab54b0d21cad535e31cd66d98f755b'}>,\n",
       "  <Document: {'content': \"Growth in engineering at Duke in the 1930s closely paralleled the larger departments in arts and sciences. In 1930, there were four faculty members; and in 1938, there were nine. By 1930, 101 students were studying engineering. When Duke established the Division of Engineering in 1937, there were 167 students. ## A College Is Born Following a study that concluded further advancement of engineering was justified, Duke's Board of Trustees authorized the formation of the College of Engineering in 1939. William H. Hall, who joined the Trinity faculty in 1915 to teach civil engineering, was named the first dean of the new college. With engineering alumni active and organized from 1937 onward and with a student body that had grown to 201 in 1939, the college was on its way. Students in each department competed to show off the latest technological marvels, such as the electrical engineers' display of a newfangled telephone- television booth. By 1937, engineering at Duke had 30,000 square feet of space on East Campus, six times what it had a decade earlier. Engineers were the only men living on East Campus until they moved westward after World War II to join the students of Trinity College of Arts and Sciences. ## The Postwar Years Engineering at Duke grew quickly during World War II in response to a national shortage of engineers. \", 'content_type': 'text', 'score': 0.6615553298375124, 'meta': {'_split_id': 1}, 'id_hash_keys': ['content'], 'embedding': None, 'id': '9b3f892980e6dae18f7b1373533408d7'}>,\n",
       "  <Document: {'content': \"May 31, 2017 ### New Tech Promises Easier Cervical Cancer Screening “Pocket colposcope” removes need for speculum, may enable self-screening May 26, 2017 ### A Leviathan Lurking in the Foundry Duke's first student Robosub in nearly a decade competes in an international competition May 25, 2017 ### Envisioning the Future of Robots The Amazon Picking Challenge pits Pratt's finest against international professionals and the demands of tomorrow's industrial needs May 22, 2017 ### BME Postdoc Awarded Competitive CPRIT Grant for Cancer Research As part of the CPRIT program, BME's Isaac Hilton will work at Rice University where he will receive funding to study innovative cancer research. May 19, 2017 ### Duke Joins $9.25M Project to Understand Concussion and Improve Recovery Project focuses on the underlying cellular mechanisms of concussion May 18, 2017 ### Scovazzi Named 2017 Alumnus of the Year by Politecnico di Torino The ceremony took place on Sunday May 14, in the Aula Magna of Politecnico May 18, 2017 ### Chakrabarty Wins 2017 IEEE Circuits and Systems Society Technical Achievement Award Computer engineering innovator recognized for work in lab-on-a-chip design automation, 3-D integrated circuits and wireless sensor networks ## Pages * « first * ‹ previous * … * 120 * 121 * 122 * 123 * 124 * 125 * 126 * 127 * 128 * … * next › * last » Search news archives ## Publications ### Duke Engineering Magazine Enjoy long-form deep dives into stories of Duke Engineering's high-impact research. \", 'content_type': 'text', 'score': 0.6601689040614747, 'meta': {'_split_id': 1}, 'id_hash_keys': ['content'], 'embedding': None, 'id': 'e5b86ef2a9583e4e991a454f1fc8d6a8'}>,\n",
       "  <Document: {'content': 'These focus groups were designed to ensure that representatives from all engineering units and stakeholder groups had an opportunity to participate in the process. Focus groups were held with tenure-track faculty, other regular rank faculty, undergraduate and graduate students, staff, members of Pratt’s Board of Visitors, and deans of all other Duke Schools. Committee members invited and received input from colleagues in faculty meetings and individual conversations. The committee consulted with leaders of the Engineering Alumni Council (EAC) to better understand the alumni perspective. Finally, the committee underwent more typical strategic planning activities including preparing a SWOT (Strengths, Weaknesses Opportunities, Threats) analysis, participating in a long-term visioning exercise, and identifying broad themes and specific recommendations for achieving that vision. ## The Committee Dean Bellamkonda and Craig Henriquez, EFC Chair, formed the Pratt 2039 Steering Committee with input from the Department Chairs. Membership was intended to be representative across departments, ranks, and fields as well as gender and background. The Pratt 2039 Steering Committee members included: * Joseph Izatt, Chair – Michael J. Fitzpatrick Distinguished Professor of Engineering in the Edmund T. School of Engineering * Ana Barros – Edmund T. Pratt, Jr. School Distinguished Professor of Civil and Environmental Engineering * Ken Brown – Associate Professor in the Department of Electrical and Computer Engineering * Warren Grill – Edmund T. Pratt, Jr. ', 'content_type': 'text', 'score': 0.6599819989821073, 'meta': {'_split_id': 5}, 'id_hash_keys': ['content'], 'embedding': None, 'id': 'c880c68f7852ce38087067928f5f70e0'}>,\n",
       "  <Document: {'content': \"A biographical interview by MIT » * * * ## 1976 ### Frederick P. Brooks. Jr. '53 For contributions to computer system design and the development of academic programs in computer sciences He died on November 17, 2022, at the age of 91. Read his obituary in The New York Times » ### Charles H. Holley, '41 For pioneering contributions to the evolution of turbine-generator design He died on October 9, 2012, at the age of 93. A memorial tribute published by the NAE » * * * ## 1974 ### Lewis M. Branscomb, '45, '71 For leadership in advancing national and international science and technology outrageously ambitious * * * * * © Copyright 2011-2023 Duke University | Pratt Intranet\", 'content_type': 'text', 'score': 0.6574389459378871, 'meta': {'_split_id': 6}, 'id_hash_keys': ['content'], 'embedding': None, 'id': 'e2a2def9477f6c06a011823d3dcc7508'}>,\n",
       "  <Document: {'content': \"June 18, 2013 ### Pratt Engineers Awarded Four Department of Defense Grants These highly sought-after grants from the MURI program are designed to promote basic research conducted by consortiums of universities. June 04, 2013 ### Genetic Editing for Duchenne Muscular Dystrophy Duke scientists have developed a way to change the existing mutated gene responsible for the disorder into a normally functioning gene June 03, 2013 ### Alumni Profile: Celine Jimenez Crowson Partner, Hogan Lovells LLP May 30, 2013 ### Searle Scholar Brenton Hoffman Probes the Physical Forces Behind Disease Hoffman says it’s time to focus on a little-studied factor in human development and disease: Physics May 29, 2013 ### George Jordan: Turning a Passion for Technology into a Legal Career Pratt Alumni Profile: George Jordan BSEE’93 May 21, 2013 ### Duke Engineering Celebrates the Class of 2013 A team of Duke engineers used one of the most powerful cameras ever developed to photograph the commencement ceremony May 21, 2013 ### Mechanical Engineering, Biology Intertwined At Stanford, Katrina Wisdom E'12 is combining her love of mechanical engineering, biology and dance May 21, 2013 ### New Method for Producing Clean Hydrogen Duke University engineers have developed a novel method for producing clean hydrogen, which could prove essential to weaning society off of fossil fuels and their environmental implications. \", 'content_type': 'text', 'score': 0.6573049316658068, 'meta': {'_split_id': 1}, 'id_hash_keys': ['content'], 'embedding': None, 'id': 'f70d9c84d5a60b3530898ca92b273353'}>,\n",
       "  <Document: {'content': \"The Pratt Research Fellows program might be right up your alley ## Pages * « first * ‹ previous * … * 13 * 14 * 15 * 16 * 17 * 18 * 19 * 20 * 21 * … * next › * last » Search news archives ## Publications ### Duke Engineering Magazine Enjoy long-form deep dives into stories of Duke Engineering's high-impact research. Read Duke Engineering Magazine » ### DukEngineer Magazine Student-written since the 1940s. Read current and back issues of DukEngineer » **Browse all our** Publications » ## Media Coverage News & Observer | March 29, 2023 ### That Selfie You Posted on Instagram? Companies Are Using It in Unethical Ways Fox News | March 29, 2023 ### Musk's proposed AI pause means China would 'race' past US with 'most powerful' tech, expert says TDWI | March 23, 2023 ### Leveraging the Power of Digital Twins in Medicine and Business See more media coverage outrageously ambitious * * * * * © Copyright 2011-2023 Duke University | Pratt Intranet\", 'content_type': 'text', 'score': 0.6568630701384175, 'meta': {'_split_id': 2}, 'id_hash_keys': ['content'], 'embedding': None, 'id': '529c8feecb3ac0eff13b3512ab1f4186'}>],\n",
       " 'root_node': 'Query',\n",
       " 'params': {'Retriever': {'top_k': 10}, 'Reader': {'top_k': 5}},\n",
       " 'node_id': 'Reader'}"
      ]
     },
     "execution_count": 9,
     "metadata": {},
     "output_type": "execute_result"
    }
   ],
   "source": [
    "prediction"
   ]
  },
  {
   "cell_type": "code",
   "execution_count": 10,
   "metadata": {},
   "outputs": [],
   "source": [
    "answers = pd.DataFrame([i.to_dict() for i in prediction[\"answers\"]])"
   ]
  },
  {
   "cell_type": "code",
   "execution_count": 11,
   "metadata": {},
   "outputs": [
    {
     "data": {
      "text/html": [
       "<div>\n",
       "<style scoped>\n",
       "    .dataframe tbody tr th:only-of-type {\n",
       "        vertical-align: middle;\n",
       "    }\n",
       "\n",
       "    .dataframe tbody tr th {\n",
       "        vertical-align: top;\n",
       "    }\n",
       "\n",
       "    .dataframe thead th {\n",
       "        text-align: right;\n",
       "    }\n",
       "</style>\n",
       "<table border=\"1\" class=\"dataframe\">\n",
       "  <thead>\n",
       "    <tr style=\"text-align: right;\">\n",
       "      <th></th>\n",
       "      <th>answer</th>\n",
       "      <th>type</th>\n",
       "      <th>score</th>\n",
       "      <th>context</th>\n",
       "      <th>offsets_in_document</th>\n",
       "      <th>offsets_in_context</th>\n",
       "      <th>document_ids</th>\n",
       "      <th>meta</th>\n",
       "    </tr>\n",
       "  </thead>\n",
       "  <tbody>\n",
       "    <tr>\n",
       "      <th>0</th>\n",
       "      <td>1851</td>\n",
       "      <td>extractive</td>\n",
       "      <td>0.950855</td>\n",
       "      <td>ering at Duke The Pratt School of Engineering traces its history back to 185...</td>\n",
       "      <td>[{'start': 919, 'end': 923}]</td>\n",
       "      <td>[{'start': 73, 'end': 77}]</td>\n",
       "      <td>[8ac5c618edf87ef60f6cfb703ad8d98e]</td>\n",
       "      <td>{'_split_id': 0}</td>\n",
       "    </tr>\n",
       "    <tr>\n",
       "      <th>1</th>\n",
       "      <td>1947</td>\n",
       "      <td>extractive</td>\n",
       "      <td>0.689422</td>\n",
       "      <td>ke as engineering dean in 1999. Later that year the school was named for 194...</td>\n",
       "      <td>[{'start': 864, 'end': 868}]</td>\n",
       "      <td>[{'start': 73, 'end': 77}]</td>\n",
       "      <td>[6ad9a9a0d75efa87f008c3a84094a997]</td>\n",
       "      <td>{'_split_id': 3}</td>\n",
       "    </tr>\n",
       "    <tr>\n",
       "      <th>2</th>\n",
       "      <td>1937</td>\n",
       "      <td>extractive</td>\n",
       "      <td>0.083638</td>\n",
       "      <td>an of the new college. With engineering alumni active and organized from 193...</td>\n",
       "      <td>[{'start': 684, 'end': 688}]</td>\n",
       "      <td>[{'start': 73, 'end': 77}]</td>\n",
       "      <td>[9b3f892980e6dae18f7b1373533408d7]</td>\n",
       "      <td>{'_split_id': 1}</td>\n",
       "    </tr>\n",
       "    <tr>\n",
       "      <th>3</th>\n",
       "      <td>1966</td>\n",
       "      <td>extractive</td>\n",
       "      <td>0.049353</td>\n",
       "      <td>pointed dean in 1963. The college was named the School of Engineering in 196...</td>\n",
       "      <td>[{'start': 1014, 'end': 1018}]</td>\n",
       "      <td>[{'start': 73, 'end': 77}]</td>\n",
       "      <td>[7bab54b0d21cad535e31cd66d98f755b]</td>\n",
       "      <td>{'_split_id': 2}</td>\n",
       "    </tr>\n",
       "    <tr>\n",
       "      <th>4</th>\n",
       "      <td>1937</td>\n",
       "      <td>extractive</td>\n",
       "      <td>0.013331</td>\n",
       "      <td>udying engineering. When Duke established the Division of Engineering in 193...</td>\n",
       "      <td>[{'start': 281, 'end': 285}]</td>\n",
       "      <td>[{'start': 73, 'end': 77}]</td>\n",
       "      <td>[9b3f892980e6dae18f7b1373533408d7]</td>\n",
       "      <td>{'_split_id': 1}</td>\n",
       "    </tr>\n",
       "  </tbody>\n",
       "</table>\n",
       "</div>"
      ],
      "text/plain": [
       "  answer        type     score  \\\n",
       "0   1851  extractive  0.950855   \n",
       "1   1947  extractive  0.689422   \n",
       "2   1937  extractive  0.083638   \n",
       "3   1966  extractive  0.049353   \n",
       "4   1937  extractive  0.013331   \n",
       "\n",
       "                                                                           context  \\\n",
       "0  ering at Duke The Pratt School of Engineering traces its history back to 185...   \n",
       "1  ke as engineering dean in 1999. Later that year the school was named for 194...   \n",
       "2  an of the new college. With engineering alumni active and organized from 193...   \n",
       "3  pointed dean in 1963. The college was named the School of Engineering in 196...   \n",
       "4  udying engineering. When Duke established the Division of Engineering in 193...   \n",
       "\n",
       "              offsets_in_document          offsets_in_context  \\\n",
       "0    [{'start': 919, 'end': 923}]  [{'start': 73, 'end': 77}]   \n",
       "1    [{'start': 864, 'end': 868}]  [{'start': 73, 'end': 77}]   \n",
       "2    [{'start': 684, 'end': 688}]  [{'start': 73, 'end': 77}]   \n",
       "3  [{'start': 1014, 'end': 1018}]  [{'start': 73, 'end': 77}]   \n",
       "4    [{'start': 281, 'end': 285}]  [{'start': 73, 'end': 77}]   \n",
       "\n",
       "                         document_ids              meta  \n",
       "0  [8ac5c618edf87ef60f6cfb703ad8d98e]  {'_split_id': 0}  \n",
       "1  [6ad9a9a0d75efa87f008c3a84094a997]  {'_split_id': 3}  \n",
       "2  [9b3f892980e6dae18f7b1373533408d7]  {'_split_id': 1}  \n",
       "3  [7bab54b0d21cad535e31cd66d98f755b]  {'_split_id': 2}  \n",
       "4  [9b3f892980e6dae18f7b1373533408d7]  {'_split_id': 1}  "
      ]
     },
     "execution_count": 11,
     "metadata": {},
     "output_type": "execute_result"
    }
   ],
   "source": [
    "answers"
   ]
  },
  {
   "cell_type": "code",
   "execution_count": 12,
   "metadata": {},
   "outputs": [],
   "source": [
    "answers['document_ids'] = answers['document_ids'].apply(lambda x: x[0])"
   ]
  },
  {
   "cell_type": "code",
   "execution_count": 13,
   "metadata": {},
   "outputs": [],
   "source": [
    "documents = pd.DataFrame([i.to_dict() for i in prediction[\"documents\"]])"
   ]
  },
  {
   "cell_type": "code",
   "execution_count": 14,
   "metadata": {},
   "outputs": [],
   "source": [
    "merge = pd.merge(documents, answers, left_on=\"id\", right_on=\"document_ids\", how=\"inner\")"
   ]
  },
  {
   "cell_type": "code",
   "execution_count": 15,
   "metadata": {},
   "outputs": [
    {
     "data": {
      "text/plain": [
       "\"## You are here Home » Alumni & Giving # Duke Engineering: A History From its beginnings more than 75 years ago, Duke's Pratt School of Engineering has grown into one of the fastest-rising in the nation On June 3, 1939, the Duke University Board of Trustees approved the creation of the College of Engineering—establishing the school as a cornerstone of the young university. From its beginnings as an undergraduate college with just three faculty members in each department and only 201 students, the School of Engineering has grown into one of the nation’s fastest-rising engineering programs, with nearly 3,000 faculty, staff, and students, 15,000 accomplished alumni, a vibrant research engine and a record of trailblazing achievements that benefit people all over the world. View a text version of this timeline. ## A Brief History of Engineering at Duke The Pratt School of Engineering traces its history back to 1851 when Normal College, a forerunner of Duke University, advertised a Classical course which included engineering for seniors. Normal College became Trinity College in 1859, and engineering was introduced in 1887. The first student to graduate with an engineering degree was C.E.D. Egerton in 1903. When Trinity became Duke University in 1924, engineering underwent vigorous development. In 1927, engineering was organized into separate departments of civil and electrical engineering. The Department of Mechanical Engineering started in 1931. Growth in engineering at Duke in the 1930s closely paralleled the larger departments in arts and sciences. \""
      ]
     },
     "execution_count": 15,
     "metadata": {},
     "output_type": "execute_result"
    }
   ],
   "source": [
    "merge[\"content\"].head(1).values[0]"
   ]
  }
 ],
 "metadata": {
  "kernelspec": {
   "display_name": "nlp",
   "language": "python",
   "name": "python3"
  },
  "language_info": {
   "codemirror_mode": {
    "name": "ipython",
    "version": 3
   },
   "file_extension": ".py",
   "mimetype": "text/x-python",
   "name": "python",
   "nbconvert_exporter": "python",
   "pygments_lexer": "ipython3",
   "version": "3.8.16"
  },
  "orig_nbformat": 4
 },
 "nbformat": 4,
 "nbformat_minor": 2
}
