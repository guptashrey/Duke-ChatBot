{
 "cells": [
  {
   "cell_type": "code",
   "execution_count": 1,
   "metadata": {},
   "outputs": [],
   "source": [
    "from haystack import Pipeline\n",
    "from haystack.nodes import FARMReader\n",
    "from haystack.nodes import DensePassageRetriever\n",
    "import os\n",
    "from haystack.document_stores import ElasticsearchDocumentStore\n",
    "import pandas as pd\n",
    "import openai\n",
    "import json"
   ]
  },
  {
   "cell_type": "code",
   "execution_count": 2,
   "metadata": {},
   "outputs": [],
   "source": [
    "host = os.environ.get(\"ELASTICSEARCH_HOST\", \"localhost\")"
   ]
  },
  {
   "cell_type": "code",
   "execution_count": 3,
   "metadata": {},
   "outputs": [
    {
     "name": "stderr",
     "output_type": "stream",
     "text": [
      "/Users/shreygupta/opt/anaconda3/envs/nlp/lib/python3.8/site-packages/elasticsearch/connection/base.py:200: ElasticsearchWarning: Elasticsearch built-in security features are not enabled. Without authentication, your cluster could be accessible to anyone. See https://www.elastic.co/guide/en/elasticsearch/reference/7.17/security-minimal-setup.html to enable security.\n",
      "  warnings.warn(message, category=ElasticsearchWarning)\n"
     ]
    }
   ],
   "source": [
    "document_store = ElasticsearchDocumentStore(\n",
    "        host=host,\n",
    "        username=\"\",\n",
    "        password=\"\",\n",
    "        index=\"document\",\n",
    "        similarity=\"dot_product\",\n",
    "        embedding_dim=768,\n",
    "        return_embedding=True,\n",
    "    )"
   ]
  },
  {
   "cell_type": "code",
   "execution_count": 4,
   "metadata": {},
   "outputs": [
    {
     "name": "stderr",
     "output_type": "stream",
     "text": [
      "The tokenizer class you load from this checkpoint is not the same type as the class this function is called from. It may result in unexpected tokenization. \n",
      "The tokenizer class you load from this checkpoint is 'DPRQuestionEncoderTokenizer'. \n",
      "The class this function is called from is 'DPRContextEncoderTokenizerFast'.\n"
     ]
    }
   ],
   "source": [
    "retriever = DensePassageRetriever(\n",
    "    document_store=document_store,\n",
    "    query_embedding_model=\"facebook/dpr-question_encoder-single-nq-base\",\n",
    "    passage_embedding_model=\"facebook/dpr-ctx_encoder-single-nq-base\"\n",
    ")"
   ]
  },
  {
   "cell_type": "code",
   "execution_count": 5,
   "metadata": {},
   "outputs": [],
   "source": [
    "reader = FARMReader(model_name_or_path=\"deepset/roberta-base-squad2\", use_gpu=True)"
   ]
  },
  {
   "cell_type": "code",
   "execution_count": 6,
   "metadata": {},
   "outputs": [],
   "source": [
    "# initialize qna pipeline for reddit posts\n",
    "querying_pipeline = Pipeline()\n",
    "querying_pipeline.add_node(component=retriever, name=\"Retriever\", inputs=[\"Query\"])\n",
    "querying_pipeline.add_node(component=reader, name=\"Reader\", inputs=[\"Retriever\"])"
   ]
  },
  {
   "cell_type": "code",
   "execution_count": 7,
   "metadata": {},
   "outputs": [],
   "source": [
    "query = \"When was Pratt School of Engineering founded?\""
   ]
  },
  {
   "cell_type": "code",
   "execution_count": 45,
   "metadata": {},
   "outputs": [],
   "source": [
    "query = \"What is the tuition fee for Master of Engineering Management at Duke University?\""
   ]
  },
  {
   "cell_type": "code",
   "execution_count": 31,
   "metadata": {},
   "outputs": [],
   "source": [
    "query = \"How long does it take to complete the Master of Engineering Management degree?\""
   ]
  },
  {
   "cell_type": "code",
   "execution_count": 59,
   "metadata": {},
   "outputs": [],
   "source": [
    "query = \"How many graduate students are enrolled in the Master of Engineering Management program?\""
   ]
  },
  {
   "cell_type": "code",
   "execution_count": 73,
   "metadata": {},
   "outputs": [],
   "source": [
    "query = \"How many credits are required for the Master degree?\""
   ]
  },
  {
   "cell_type": "code",
   "execution_count": 87,
   "metadata": {},
   "outputs": [],
   "source": [
    "query = \"What is the requirement for Bachelor of Science in Engineering?\""
   ]
  },
  {
   "cell_type": "code",
   "execution_count": 88,
   "metadata": {},
   "outputs": [
    {
     "name": "stderr",
     "output_type": "stream",
     "text": [
      "/Users/shreygupta/opt/anaconda3/envs/nlp/lib/python3.8/site-packages/elasticsearch/connection/base.py:200: ElasticsearchWarning: Elasticsearch built-in security features are not enabled. Without authentication, your cluster could be accessible to anyone. See https://www.elastic.co/guide/en/elasticsearch/reference/7.17/security-minimal-setup.html to enable security.\n",
      "  warnings.warn(message, category=ElasticsearchWarning)\n"
     ]
    },
    {
     "data": {
      "application/vnd.jupyter.widget-view+json": {
       "model_id": "f4f5ad211f2c4e02b2b44d9a4bbc8fc3",
       "version_major": 2,
       "version_minor": 0
      },
      "text/plain": [
       "Inferencing Samples:   0%|          | 0/1 [00:00<?, ? Batches/s]"
      ]
     },
     "metadata": {},
     "output_type": "display_data"
    }
   ],
   "source": [
    "prediction = querying_pipeline.run(\n",
    "    query=query,\n",
    "    params={\n",
    "        \"Retriever\": {\"top_k\": 10},\n",
    "        \"Reader\": {\"top_k\": 5}\n",
    "        }\n",
    ")"
   ]
  },
  {
   "cell_type": "code",
   "execution_count": 89,
   "metadata": {},
   "outputs": [],
   "source": [
    "answers = pd.DataFrame([i.to_dict() for i in prediction[\"answers\"]])"
   ]
  },
  {
   "cell_type": "code",
   "execution_count": 90,
   "metadata": {},
   "outputs": [
    {
     "data": {
      "text/html": [
       "<div>\n",
       "<style scoped>\n",
       "    .dataframe tbody tr th:only-of-type {\n",
       "        vertical-align: middle;\n",
       "    }\n",
       "\n",
       "    .dataframe tbody tr th {\n",
       "        vertical-align: top;\n",
       "    }\n",
       "\n",
       "    .dataframe thead th {\n",
       "        text-align: right;\n",
       "    }\n",
       "</style>\n",
       "<table border=\"1\" class=\"dataframe\">\n",
       "  <thead>\n",
       "    <tr style=\"text-align: right;\">\n",
       "      <th></th>\n",
       "      <th>answer</th>\n",
       "      <th>type</th>\n",
       "      <th>score</th>\n",
       "      <th>context</th>\n",
       "      <th>offsets_in_document</th>\n",
       "      <th>offsets_in_context</th>\n",
       "      <th>document_ids</th>\n",
       "      <th>meta</th>\n",
       "    </tr>\n",
       "  </thead>\n",
       "  <tbody>\n",
       "    <tr>\n",
       "      <th>0</th>\n",
       "      <td>Undergraduate</td>\n",
       "      <td>extractive</td>\n",
       "      <td>0.686385</td>\n",
       "      <td>## You are here Home » Undergraduate » Bachelor of Science in Engineering (B...</td>\n",
       "      <td>[{'start': 23, 'end': 36}]</td>\n",
       "      <td>[{'start': 23, 'end': 36}]</td>\n",
       "      <td>[2ab4f8f9985d34065eef52dc05de6b01]</td>\n",
       "      <td>{'_split_id': 0}</td>\n",
       "    </tr>\n",
       "    <tr>\n",
       "      <th>1</th>\n",
       "      <td>General Degree Requirements</td>\n",
       "      <td>extractive</td>\n",
       "      <td>0.638005</td>\n",
       "      <td>» Undergraduate » Bachelor of Science in Engineering (BSE) # General Degree...</td>\n",
       "      <td>[{'start': 82, 'end': 109}]</td>\n",
       "      <td>[{'start': 62, 'end': 89}]</td>\n",
       "      <td>[74b3cb4128bf48c3a9f5449be0aa8e21]</td>\n",
       "      <td>{'_split_id': 0}</td>\n",
       "    </tr>\n",
       "    <tr>\n",
       "      <th>2</th>\n",
       "      <td>Double Majors Many students complete the requirements for a departmental maj...</td>\n",
       "      <td>extractive</td>\n",
       "      <td>0.186097</td>\n",
       "      <td>Double Majors Many students complete the requirements for a departmental maj...</td>\n",
       "      <td>[{'start': 120, 'end': 372}]</td>\n",
       "      <td>[{'start': 0, 'end': 252}]</td>\n",
       "      <td>[51fcf23736c44c409ab0958071e75e7c]</td>\n",
       "      <td>{'_split_id': 0}</td>\n",
       "    </tr>\n",
       "    <tr>\n",
       "      <th>3</th>\n",
       "      <td>those that present essential subject matter and substance of the discipline</td>\n",
       "      <td>extractive</td>\n",
       "      <td>0.140724</td>\n",
       "      <td>Courses selected must be those that present essential subject matter and sub...</td>\n",
       "      <td>[{'start': 25, 'end': 100}]</td>\n",
       "      <td>[{'start': 25, 'end': 100}]</td>\n",
       "      <td>[725320aaf7d6d72b973f25c9ec4aca8c]</td>\n",
       "      <td>{'_split_id': 1}</td>\n",
       "    </tr>\n",
       "    <tr>\n",
       "      <th>4</th>\n",
       "      <td>masters</td>\n",
       "      <td>extractive</td>\n",
       "      <td>0.120374</td>\n",
       "      <td>**#24** Best Graduate Engineering School (tie)—includes Top 25 PhD and mast...</td>\n",
       "      <td>[{'start': 378, 'end': 385}]</td>\n",
       "      <td>[{'start': 72, 'end': 79}]</td>\n",
       "      <td>[c42b7dc4cb233ffea48a0f0aaadb9e0a]</td>\n",
       "      <td>{'_split_id': 4}</td>\n",
       "    </tr>\n",
       "  </tbody>\n",
       "</table>\n",
       "</div>"
      ],
      "text/plain": [
       "                                                                            answer  \\\n",
       "0                                                                    Undergraduate   \n",
       "1                                                      General Degree Requirements   \n",
       "2  Double Majors Many students complete the requirements for a departmental maj...   \n",
       "3      those that present essential subject matter and substance of the discipline   \n",
       "4                                                                          masters   \n",
       "\n",
       "         type     score  \\\n",
       "0  extractive  0.686385   \n",
       "1  extractive  0.638005   \n",
       "2  extractive  0.186097   \n",
       "3  extractive  0.140724   \n",
       "4  extractive  0.120374   \n",
       "\n",
       "                                                                           context  \\\n",
       "0  ## You are here Home » Undergraduate » Bachelor of Science in Engineering (B...   \n",
       "1   » Undergraduate » Bachelor of Science in Engineering (BSE) # General Degree...   \n",
       "2  Double Majors Many students complete the requirements for a departmental maj...   \n",
       "3  Courses selected must be those that present essential subject matter and sub...   \n",
       "4   **#24** Best Graduate Engineering School (tie)—includes Top 25 PhD and mast...   \n",
       "\n",
       "            offsets_in_document           offsets_in_context  \\\n",
       "0    [{'start': 23, 'end': 36}]   [{'start': 23, 'end': 36}]   \n",
       "1   [{'start': 82, 'end': 109}]   [{'start': 62, 'end': 89}]   \n",
       "2  [{'start': 120, 'end': 372}]   [{'start': 0, 'end': 252}]   \n",
       "3   [{'start': 25, 'end': 100}]  [{'start': 25, 'end': 100}]   \n",
       "4  [{'start': 378, 'end': 385}]   [{'start': 72, 'end': 79}]   \n",
       "\n",
       "                         document_ids              meta  \n",
       "0  [2ab4f8f9985d34065eef52dc05de6b01]  {'_split_id': 0}  \n",
       "1  [74b3cb4128bf48c3a9f5449be0aa8e21]  {'_split_id': 0}  \n",
       "2  [51fcf23736c44c409ab0958071e75e7c]  {'_split_id': 0}  \n",
       "3  [725320aaf7d6d72b973f25c9ec4aca8c]  {'_split_id': 1}  \n",
       "4  [c42b7dc4cb233ffea48a0f0aaadb9e0a]  {'_split_id': 4}  "
      ]
     },
     "execution_count": 90,
     "metadata": {},
     "output_type": "execute_result"
    }
   ],
   "source": [
    "answers"
   ]
  },
  {
   "cell_type": "code",
   "execution_count": 91,
   "metadata": {},
   "outputs": [],
   "source": [
    "answers['document_ids'] = answers['document_ids'].apply(lambda x: x[0])"
   ]
  },
  {
   "cell_type": "code",
   "execution_count": 92,
   "metadata": {},
   "outputs": [],
   "source": [
    "documents = pd.DataFrame([i.to_dict() for i in prediction[\"documents\"]])"
   ]
  },
  {
   "cell_type": "code",
   "execution_count": 93,
   "metadata": {},
   "outputs": [],
   "source": [
    "merge = pd.merge(documents, answers, left_on=\"id\", right_on=\"document_ids\", how=\"inner\")"
   ]
  },
  {
   "cell_type": "code",
   "execution_count": 94,
   "metadata": {},
   "outputs": [
    {
     "data": {
      "text/html": [
       "<div>\n",
       "<style scoped>\n",
       "    .dataframe tbody tr th:only-of-type {\n",
       "        vertical-align: middle;\n",
       "    }\n",
       "\n",
       "    .dataframe tbody tr th {\n",
       "        vertical-align: top;\n",
       "    }\n",
       "\n",
       "    .dataframe thead th {\n",
       "        text-align: right;\n",
       "    }\n",
       "</style>\n",
       "<table border=\"1\" class=\"dataframe\">\n",
       "  <thead>\n",
       "    <tr style=\"text-align: right;\">\n",
       "      <th></th>\n",
       "      <th>content</th>\n",
       "      <th>content_type</th>\n",
       "      <th>score_x</th>\n",
       "      <th>meta_x</th>\n",
       "      <th>id_hash_keys</th>\n",
       "      <th>embedding</th>\n",
       "      <th>id</th>\n",
       "      <th>answer</th>\n",
       "      <th>type</th>\n",
       "      <th>score_y</th>\n",
       "      <th>context</th>\n",
       "      <th>offsets_in_document</th>\n",
       "      <th>offsets_in_context</th>\n",
       "      <th>document_ids</th>\n",
       "      <th>meta_y</th>\n",
       "    </tr>\n",
       "  </thead>\n",
       "  <tbody>\n",
       "    <tr>\n",
       "      <th>0</th>\n",
       "      <td>Courses selected must be those that present essential subject matter and sub...</td>\n",
       "      <td>text</td>\n",
       "      <td>0.695068</td>\n",
       "      <td>{'_split_id': 1}</td>\n",
       "      <td>[content]</td>\n",
       "      <td>[0.43349174, 0.33182672, 0.60650444, 0.47958523, 0.42741317, 0.23738325, 0.2...</td>\n",
       "      <td>725320aaf7d6d72b973f25c9ec4aca8c</td>\n",
       "      <td>those that present essential subject matter and substance of the discipline</td>\n",
       "      <td>extractive</td>\n",
       "      <td>0.140724</td>\n",
       "      <td>Courses selected must be those that present essential subject matter and sub...</td>\n",
       "      <td>[{'start': 25, 'end': 100}]</td>\n",
       "      <td>[{'start': 25, 'end': 100}]</td>\n",
       "      <td>725320aaf7d6d72b973f25c9ec4aca8c</td>\n",
       "      <td>{'_split_id': 1}</td>\n",
       "    </tr>\n",
       "    <tr>\n",
       "      <th>1</th>\n",
       "      <td>## You are here Home » Undergraduate » Bachelor of Science in Engineering (B...</td>\n",
       "      <td>text</td>\n",
       "      <td>0.694863</td>\n",
       "      <td>{'_split_id': 0}</td>\n",
       "      <td>[content]</td>\n",
       "      <td>[0.4361204, 0.5437646, 0.35926843, 0.14172421, 0.4723882, -0.00055124983, 0....</td>\n",
       "      <td>2ab4f8f9985d34065eef52dc05de6b01</td>\n",
       "      <td>Undergraduate</td>\n",
       "      <td>extractive</td>\n",
       "      <td>0.686385</td>\n",
       "      <td>## You are here Home » Undergraduate » Bachelor of Science in Engineering (B...</td>\n",
       "      <td>[{'start': 23, 'end': 36}]</td>\n",
       "      <td>[{'start': 23, 'end': 36}]</td>\n",
       "      <td>2ab4f8f9985d34065eef52dc05de6b01</td>\n",
       "      <td>{'_split_id': 0}</td>\n",
       "    </tr>\n",
       "    <tr>\n",
       "      <th>2</th>\n",
       "      <td>## You are here Home » Undergraduate » Bachelor of Science in Engineering (B...</td>\n",
       "      <td>text</td>\n",
       "      <td>0.691977</td>\n",
       "      <td>{'_split_id': 0}</td>\n",
       "      <td>[content]</td>\n",
       "      <td>[0.3786407, 0.6160215, 0.5768361, 0.34926012, 0.26924872, -0.013151873, 0.69...</td>\n",
       "      <td>74b3cb4128bf48c3a9f5449be0aa8e21</td>\n",
       "      <td>General Degree Requirements</td>\n",
       "      <td>extractive</td>\n",
       "      <td>0.638005</td>\n",
       "      <td>» Undergraduate » Bachelor of Science in Engineering (BSE) # General Degree...</td>\n",
       "      <td>[{'start': 82, 'end': 109}]</td>\n",
       "      <td>[{'start': 62, 'end': 89}]</td>\n",
       "      <td>74b3cb4128bf48c3a9f5449be0aa8e21</td>\n",
       "      <td>{'_split_id': 0}</td>\n",
       "    </tr>\n",
       "    <tr>\n",
       "      <th>3</th>\n",
       "      <td>## You are here Home » Undergraduate » For Current Students » Policies &amp; Pro...</td>\n",
       "      <td>text</td>\n",
       "      <td>0.688841</td>\n",
       "      <td>{'_split_id': 0}</td>\n",
       "      <td>[content]</td>\n",
       "      <td>[0.74831176, 0.65101445, 0.48997885, 0.04963132, 0.15922277, 0.067849405, 0....</td>\n",
       "      <td>51fcf23736c44c409ab0958071e75e7c</td>\n",
       "      <td>Double Majors Many students complete the requirements for a departmental maj...</td>\n",
       "      <td>extractive</td>\n",
       "      <td>0.186097</td>\n",
       "      <td>Double Majors Many students complete the requirements for a departmental maj...</td>\n",
       "      <td>[{'start': 120, 'end': 372}]</td>\n",
       "      <td>[{'start': 0, 'end': 252}]</td>\n",
       "      <td>51fcf23736c44c409ab0958071e75e7c</td>\n",
       "      <td>{'_split_id': 0}</td>\n",
       "    </tr>\n",
       "    <tr>\n",
       "      <th>4</th>\n",
       "      <td>* * * ## Rankings ### Academics #### U.S. News &amp; World Report * **#7** onlin...</td>\n",
       "      <td>text</td>\n",
       "      <td>0.688414</td>\n",
       "      <td>{'_split_id': 4}</td>\n",
       "      <td>[content]</td>\n",
       "      <td>[0.061269794, 0.11897026, 0.4946767, 0.6576563, 0.48026288, -0.086671084, 0....</td>\n",
       "      <td>c42b7dc4cb233ffea48a0f0aaadb9e0a</td>\n",
       "      <td>masters</td>\n",
       "      <td>extractive</td>\n",
       "      <td>0.120374</td>\n",
       "      <td>**#24** Best Graduate Engineering School (tie)—includes Top 25 PhD and mast...</td>\n",
       "      <td>[{'start': 378, 'end': 385}]</td>\n",
       "      <td>[{'start': 72, 'end': 79}]</td>\n",
       "      <td>c42b7dc4cb233ffea48a0f0aaadb9e0a</td>\n",
       "      <td>{'_split_id': 4}</td>\n",
       "    </tr>\n",
       "  </tbody>\n",
       "</table>\n",
       "</div>"
      ],
      "text/plain": [
       "                                                                           content  \\\n",
       "0  Courses selected must be those that present essential subject matter and sub...   \n",
       "1  ## You are here Home » Undergraduate » Bachelor of Science in Engineering (B...   \n",
       "2  ## You are here Home » Undergraduate » Bachelor of Science in Engineering (B...   \n",
       "3  ## You are here Home » Undergraduate » For Current Students » Policies & Pro...   \n",
       "4  * * * ## Rankings ### Academics #### U.S. News & World Report * **#7** onlin...   \n",
       "\n",
       "  content_type   score_x            meta_x id_hash_keys  \\\n",
       "0         text  0.695068  {'_split_id': 1}    [content]   \n",
       "1         text  0.694863  {'_split_id': 0}    [content]   \n",
       "2         text  0.691977  {'_split_id': 0}    [content]   \n",
       "3         text  0.688841  {'_split_id': 0}    [content]   \n",
       "4         text  0.688414  {'_split_id': 4}    [content]   \n",
       "\n",
       "                                                                         embedding  \\\n",
       "0  [0.43349174, 0.33182672, 0.60650444, 0.47958523, 0.42741317, 0.23738325, 0.2...   \n",
       "1  [0.4361204, 0.5437646, 0.35926843, 0.14172421, 0.4723882, -0.00055124983, 0....   \n",
       "2  [0.3786407, 0.6160215, 0.5768361, 0.34926012, 0.26924872, -0.013151873, 0.69...   \n",
       "3  [0.74831176, 0.65101445, 0.48997885, 0.04963132, 0.15922277, 0.067849405, 0....   \n",
       "4  [0.061269794, 0.11897026, 0.4946767, 0.6576563, 0.48026288, -0.086671084, 0....   \n",
       "\n",
       "                                 id  \\\n",
       "0  725320aaf7d6d72b973f25c9ec4aca8c   \n",
       "1  2ab4f8f9985d34065eef52dc05de6b01   \n",
       "2  74b3cb4128bf48c3a9f5449be0aa8e21   \n",
       "3  51fcf23736c44c409ab0958071e75e7c   \n",
       "4  c42b7dc4cb233ffea48a0f0aaadb9e0a   \n",
       "\n",
       "                                                                            answer  \\\n",
       "0      those that present essential subject matter and substance of the discipline   \n",
       "1                                                                    Undergraduate   \n",
       "2                                                      General Degree Requirements   \n",
       "3  Double Majors Many students complete the requirements for a departmental maj...   \n",
       "4                                                                          masters   \n",
       "\n",
       "         type   score_y  \\\n",
       "0  extractive  0.140724   \n",
       "1  extractive  0.686385   \n",
       "2  extractive  0.638005   \n",
       "3  extractive  0.186097   \n",
       "4  extractive  0.120374   \n",
       "\n",
       "                                                                           context  \\\n",
       "0  Courses selected must be those that present essential subject matter and sub...   \n",
       "1  ## You are here Home » Undergraduate » Bachelor of Science in Engineering (B...   \n",
       "2   » Undergraduate » Bachelor of Science in Engineering (BSE) # General Degree...   \n",
       "3  Double Majors Many students complete the requirements for a departmental maj...   \n",
       "4   **#24** Best Graduate Engineering School (tie)—includes Top 25 PhD and mast...   \n",
       "\n",
       "            offsets_in_document           offsets_in_context  \\\n",
       "0   [{'start': 25, 'end': 100}]  [{'start': 25, 'end': 100}]   \n",
       "1    [{'start': 23, 'end': 36}]   [{'start': 23, 'end': 36}]   \n",
       "2   [{'start': 82, 'end': 109}]   [{'start': 62, 'end': 89}]   \n",
       "3  [{'start': 120, 'end': 372}]   [{'start': 0, 'end': 252}]   \n",
       "4  [{'start': 378, 'end': 385}]   [{'start': 72, 'end': 79}]   \n",
       "\n",
       "                       document_ids            meta_y  \n",
       "0  725320aaf7d6d72b973f25c9ec4aca8c  {'_split_id': 1}  \n",
       "1  2ab4f8f9985d34065eef52dc05de6b01  {'_split_id': 0}  \n",
       "2  74b3cb4128bf48c3a9f5449be0aa8e21  {'_split_id': 0}  \n",
       "3  51fcf23736c44c409ab0958071e75e7c  {'_split_id': 0}  \n",
       "4  c42b7dc4cb233ffea48a0f0aaadb9e0a  {'_split_id': 4}  "
      ]
     },
     "execution_count": 94,
     "metadata": {},
     "output_type": "execute_result"
    }
   ],
   "source": [
    "merge"
   ]
  },
  {
   "cell_type": "code",
   "execution_count": 95,
   "metadata": {},
   "outputs": [],
   "source": [
    "info = merge[\"content\"].head(1).values[0]"
   ]
  },
  {
   "cell_type": "code",
   "execution_count": 96,
   "metadata": {},
   "outputs": [
    {
     "data": {
      "text/plain": [
       "\"Courses selected must be those that present essential subject matter and substance of the discipline. ## Engineering and Applied Sciences, Digital Computation (4) This requirement is met by completion of one course from each of four of the following seven areas: digital systems, electrical science, information and computer science, mechanics (solid and fluid), materials science, systems analysis, and thermal science and transfer processes. Students are expected to have acquired digital-computer programming capability before their sophomore year. The programming capability is generally satisfied by Engineering 103L (53L). ## Engineering Department Courses (15) The academic department (BME, CEE, ECE or MEMS) administering the major field of study, or the interdisciplinary curricula for IDEAS students, specifies this requirement. In general, it consists of both required and elective courses planned in consultation with a student's advisor. Including the 4 credits in engineering and applied sciences listed under general requirements (see above paragraph), a total of 13.0 credits in engineering work are required. \""
      ]
     },
     "execution_count": 96,
     "metadata": {},
     "output_type": "execute_result"
    }
   ],
   "source": [
    "info"
   ]
  },
  {
   "cell_type": "code",
   "execution_count": 97,
   "metadata": {},
   "outputs": [],
   "source": [
    "config = json.load(open(\"../config.json\"))\n",
    "openai_api_key = config[\"openai_api_key\"]"
   ]
  },
  {
   "cell_type": "code",
   "execution_count": 98,
   "metadata": {},
   "outputs": [],
   "source": [
    "openai.api_key = openai_api_key"
   ]
  },
  {
   "cell_type": "code",
   "execution_count": 99,
   "metadata": {},
   "outputs": [],
   "source": [
    "completion = openai.ChatCompletion.create(\n",
    "        model=\"gpt-3.5-turbo\",\n",
    "        messages=[\n",
    "            {\"role\": \"user\",\n",
    "             \"content\": f\"Can you answer the given question based on the provided information? Question: '{query}' Information: '{info}'\"}\n",
    "        ]\n",
    "    )"
   ]
  },
  {
   "cell_type": "code",
   "execution_count": 100,
   "metadata": {},
   "outputs": [
    {
     "data": {
      "text/plain": [
       "\"The requirement for Bachelor of Science in Engineering includes completing one course from each of the seven areas: digital systems, electrical science, information and computer science, mechanics (solid and fluid), materials science, systems analysis, and thermal science and transfer processes. Additionally, students must have acquired digital-computer programming capability before their sophomore year, which is generally satisfied by Engineering 103L (53L). Furthermore, students must complete 15 engineering department courses, which includes both required and elective courses planned in consultation with a student's advisor. A total of 13.0 credits in engineering work are required, including the 4 credits in engineering and applied sciences listed under general requirements.\""
      ]
     },
     "execution_count": 100,
     "metadata": {},
     "output_type": "execute_result"
    }
   ],
   "source": [
    "dict(completion.choices[0].message)[\"content\"].replace(\"\\n\", \"\")"
   ]
  },
  {
   "cell_type": "code",
   "execution_count": 26,
   "metadata": {},
   "outputs": [],
   "source": [
    "# initialize qna pipeline for reddit posts\n",
    "querying_pipeline = Pipeline()\n",
    "querying_pipeline.add_node(component=retriever, name=\"Retriever\", inputs=[\"Query\"])\n",
    "querying_pipeline.add_node(component=reader, name=\"Reader\", inputs=[\"Retriever\"])"
   ]
  },
  {
   "cell_type": "code",
   "execution_count": 27,
   "metadata": {},
   "outputs": [],
   "source": [
    "from haystack.pipelines import GenerativeQAPipeline"
   ]
  },
  {
   "cell_type": "code",
   "execution_count": 28,
   "metadata": {},
   "outputs": [],
   "source": [
    "pipe = GenerativeQAPipeline(generator=generator, retriever=retriever)"
   ]
  },
  {
   "cell_type": "code",
   "execution_count": 40,
   "metadata": {},
   "outputs": [],
   "source": [
    "res = pipe.run(query=query, params={\"Generator\": {\"top_k\": 2}, \"Retriever\": {\"top_k\": 10}})"
   ]
  },
  {
   "cell_type": "code",
   "execution_count": 41,
   "metadata": {},
   "outputs": [
    {
     "data": {
      "text/plain": [
       "{'query': 'When was Pratt School of Engineering founded?',\n",
       " 'answers': [<Answer {'answer': ' duke university', 'type': 'generative', 'score': None, 'context': None, 'offsets_in_document': None, 'offsets_in_context': None, 'document_ids': ['8ac5c618edf87ef60f6cfb703ad8d98e', '6ad9a9a0d75efa87f008c3a84094a997', 'b5c13e0776f002cedbfeed927620a055', '7bab54b0d21cad535e31cd66d98f755b', '9b3f892980e6dae18f7b1373533408d7', 'e5b86ef2a9583e4e991a454f1fc8d6a8', 'c880c68f7852ce38087067928f5f70e0', 'e2a2def9477f6c06a011823d3dcc7508', 'f70d9c84d5a60b3530898ca92b273353', '529c8feecb3ac0eff13b3512ab1f4186'], 'meta': {'doc_scores': [0.6842600275997561, 0.6695001093427642, 0.6679870914859393, 0.6649212424771971, 0.6615553298375124, 0.6601689040614747, 0.6599819989821073, 0.6574389459378871, 0.6573049316658068, 0.6568630701384175], 'content': [\"## You are here Home » Alumni & Giving # Duke Engineering: A History From its beginnings more than 75 years ago, Duke's Pratt School of Engineering has grown into one of the fastest-rising in the nation On June 3, 1939, the Duke University Board of Trustees approved the creation of the College of Engineering—establishing the school as a cornerstone of the young university. From its beginnings as an undergraduate college with just three faculty members in each department and only 201 students, the School of Engineering has grown into one of the nation’s fastest-rising engineering programs, with nearly 3,000 faculty, staff, and students, 15,000 accomplished alumni, a vibrant research engine and a record of trailblazing achievements that benefit people all over the world. View a text version of this timeline. ## A Brief History of Engineering at Duke The Pratt School of Engineering traces its history back to 1851 when Normal College, a forerunner of Duke University, advertised a Classical course which included engineering for seniors. Normal College became Trinity College in 1859, and engineering was introduced in 1887. The first student to graduate with an engineering degree was C.E.D. Egerton in 1903. When Trinity became Duke University in 1924, engineering underwent vigorous development. In 1927, engineering was organized into separate departments of civil and electrical engineering. The Department of Mechanical Engineering started in 1931. Growth in engineering at Duke in the 1930s closely paralleled the larger departments in arts and sciences. \", 'In 1974, Aleksander S. Vesic, who joined Duke as a professor of civil engineering 10 years earlier, was appointed dean. After Vesic died in 1982, Pearsall stepped in as interim dean until Earl H. Dowell moved to Duke from Princeton to become dean in 1983. ## A 21st-Century Foundation The Nello Teer Library Building opened in 1984. Three years later, the Center for Emerging Cardiovascular Technology at Duke becomes the first National Science Foundation Engineering Research Center (ERC) focused on biomedical research. In 1992, the Hudson Center for Engineering Education opened, followed in 1994 by the Levine Science Research Center, which provided additional space for growing school. In 1997, the Master of Engineering Management Program was established. Kristina M. Johnson joined Duke as engineering dean in 1999. Later that year the school was named for 1947 electrical engineering graduate and philanthropist Edmund T. Pratt Jr., who endowed the school with $35 million. It was at the time the second-largest gift in the university’s history, surpassed only by the original gift from James B. Duke to transform Trinity College into Duke University. The Fitzpatrick Center for Photonics and Communications Systems was established in 2000. Teaching and research space doubled with the 2004 opening of the 322,000-square-foot Fitzpatrick Center for Interdisciplinary Engineering, Medicine and Applied Sciences (FCIEMAS). ', \"Teaching and research space doubled with the 2004 opening of the 322,000-square-foot Fitzpatrick Center for Interdisciplinary Engineering, Medicine and Applied Sciences (FCIEMAS). In recent years the school has dramatically grown its external research funding and major nationally-awarded research centers, its faculty size and prominence, and its student body and selectivity, making Pratt the fastest- rising engineering school in the country in terms of national rankings. ## Our History * Timeline * Commemorative Book ### Duke Engineering Through the Years Take an online view of our 52-page commemorative book, produced in celebration of Duke Engineering's 75th anniversary. ### Timeline – Text Version Browse more than 75 years of Duke Engineering history. outrageously ambitious * * * * * © Copyright 2011-2023 Duke University | Pratt Intranet\", \"## The Postwar Years Engineering at Duke grew quickly during World War II in response to a national shortage of engineers. The first women graduated from the College of Engineering in 1946, and all three engineering departments moved to West Campus in 1947 to a new building that became known as “Old Red” (now named Hudson Hall). In 1951, the university created the Research and Development Program for Engineering, which eventually led to a graduate program and was the foundation for what would become a major national engineering research effort. The R&D program was led by Walter J. Seeley, who came to Duke in 1925 to teach electrical engineering. He became dean in 1953. ## The Changing '60s The doctor of philosophy degree was offered in electrical engineering in 1960, followed by a Ph.D. in civil engineering four years later. James L. Meriam, a professor of mechanical engineering at the University of California, Berkeley, was appointed dean in 1963. The college was named the School of Engineering in 1966 and the school's first black students graduated two years later. The Division of Biomedical Engineering was established in 1967 and in 1971 it became a department--the first ever at a United States university. George Pearsall was named dean in 1969 and three years later the Engineering Annex to Hudson Hall opened. In 1974, Aleksander S. Vesic, who joined Duke as a professor of civil engineering 10 years earlier, was appointed dean. \", \"Growth in engineering at Duke in the 1930s closely paralleled the larger departments in arts and sciences. In 1930, there were four faculty members; and in 1938, there were nine. By 1930, 101 students were studying engineering. When Duke established the Division of Engineering in 1937, there were 167 students. ## A College Is Born Following a study that concluded further advancement of engineering was justified, Duke's Board of Trustees authorized the formation of the College of Engineering in 1939. William H. Hall, who joined the Trinity faculty in 1915 to teach civil engineering, was named the first dean of the new college. With engineering alumni active and organized from 1937 onward and with a student body that had grown to 201 in 1939, the college was on its way. Students in each department competed to show off the latest technological marvels, such as the electrical engineers' display of a newfangled telephone- television booth. By 1937, engineering at Duke had 30,000 square feet of space on East Campus, six times what it had a decade earlier. Engineers were the only men living on East Campus until they moved westward after World War II to join the students of Trinity College of Arts and Sciences. ## The Postwar Years Engineering at Duke grew quickly during World War II in response to a national shortage of engineers. \", \"May 31, 2017 ### New Tech Promises Easier Cervical Cancer Screening “Pocket colposcope” removes need for speculum, may enable self-screening May 26, 2017 ### A Leviathan Lurking in the Foundry Duke's first student Robosub in nearly a decade competes in an international competition May 25, 2017 ### Envisioning the Future of Robots The Amazon Picking Challenge pits Pratt's finest against international professionals and the demands of tomorrow's industrial needs May 22, 2017 ### BME Postdoc Awarded Competitive CPRIT Grant for Cancer Research As part of the CPRIT program, BME's Isaac Hilton will work at Rice University where he will receive funding to study innovative cancer research. May 19, 2017 ### Duke Joins $9.25M Project to Understand Concussion and Improve Recovery Project focuses on the underlying cellular mechanisms of concussion May 18, 2017 ### Scovazzi Named 2017 Alumnus of the Year by Politecnico di Torino The ceremony took place on Sunday May 14, in the Aula Magna of Politecnico May 18, 2017 ### Chakrabarty Wins 2017 IEEE Circuits and Systems Society Technical Achievement Award Computer engineering innovator recognized for work in lab-on-a-chip design automation, 3-D integrated circuits and wireless sensor networks ## Pages * « first * ‹ previous * … * 120 * 121 * 122 * 123 * 124 * 125 * 126 * 127 * 128 * … * next › * last » Search news archives ## Publications ### Duke Engineering Magazine Enjoy long-form deep dives into stories of Duke Engineering's high-impact research. \", 'These focus groups were designed to ensure that representatives from all engineering units and stakeholder groups had an opportunity to participate in the process. Focus groups were held with tenure-track faculty, other regular rank faculty, undergraduate and graduate students, staff, members of Pratt’s Board of Visitors, and deans of all other Duke Schools. Committee members invited and received input from colleagues in faculty meetings and individual conversations. The committee consulted with leaders of the Engineering Alumni Council (EAC) to better understand the alumni perspective. Finally, the committee underwent more typical strategic planning activities including preparing a SWOT (Strengths, Weaknesses Opportunities, Threats) analysis, participating in a long-term visioning exercise, and identifying broad themes and specific recommendations for achieving that vision. ## The Committee Dean Bellamkonda and Craig Henriquez, EFC Chair, formed the Pratt 2039 Steering Committee with input from the Department Chairs. Membership was intended to be representative across departments, ranks, and fields as well as gender and background. The Pratt 2039 Steering Committee members included: * Joseph Izatt, Chair – Michael J. Fitzpatrick Distinguished Professor of Engineering in the Edmund T. School of Engineering * Ana Barros – Edmund T. Pratt, Jr. School Distinguished Professor of Civil and Environmental Engineering * Ken Brown – Associate Professor in the Department of Electrical and Computer Engineering * Warren Grill – Edmund T. Pratt, Jr. ', \"A biographical interview by MIT » * * * ## 1976 ### Frederick P. Brooks. Jr. '53 For contributions to computer system design and the development of academic programs in computer sciences He died on November 17, 2022, at the age of 91. Read his obituary in The New York Times » ### Charles H. Holley, '41 For pioneering contributions to the evolution of turbine-generator design He died on October 9, 2012, at the age of 93. A memorial tribute published by the NAE » * * * ## 1974 ### Lewis M. Branscomb, '45, '71 For leadership in advancing national and international science and technology outrageously ambitious * * * * * © Copyright 2011-2023 Duke University | Pratt Intranet\", \"June 18, 2013 ### Pratt Engineers Awarded Four Department of Defense Grants These highly sought-after grants from the MURI program are designed to promote basic research conducted by consortiums of universities. June 04, 2013 ### Genetic Editing for Duchenne Muscular Dystrophy Duke scientists have developed a way to change the existing mutated gene responsible for the disorder into a normally functioning gene June 03, 2013 ### Alumni Profile: Celine Jimenez Crowson Partner, Hogan Lovells LLP May 30, 2013 ### Searle Scholar Brenton Hoffman Probes the Physical Forces Behind Disease Hoffman says it’s time to focus on a little-studied factor in human development and disease: Physics May 29, 2013 ### George Jordan: Turning a Passion for Technology into a Legal Career Pratt Alumni Profile: George Jordan BSEE’93 May 21, 2013 ### Duke Engineering Celebrates the Class of 2013 A team of Duke engineers used one of the most powerful cameras ever developed to photograph the commencement ceremony May 21, 2013 ### Mechanical Engineering, Biology Intertwined At Stanford, Katrina Wisdom E'12 is combining her love of mechanical engineering, biology and dance May 21, 2013 ### New Method for Producing Clean Hydrogen Duke University engineers have developed a novel method for producing clean hydrogen, which could prove essential to weaning society off of fossil fuels and their environmental implications. \", \"The Pratt Research Fellows program might be right up your alley ## Pages * « first * ‹ previous * … * 13 * 14 * 15 * 16 * 17 * 18 * 19 * 20 * 21 * … * next › * last » Search news archives ## Publications ### Duke Engineering Magazine Enjoy long-form deep dives into stories of Duke Engineering's high-impact research. Read Duke Engineering Magazine » ### DukEngineer Magazine Student-written since the 1940s. Read current and back issues of DukEngineer » **Browse all our** Publications » ## Media Coverage News & Observer | March 29, 2023 ### That Selfie You Posted on Instagram? Companies Are Using It in Unethical Ways Fox News | March 29, 2023 ### Musk's proposed AI pause means China would 'race' past US with 'most powerful' tech, expert says TDWI | March 23, 2023 ### Leveraging the Power of Digital Twins in Medicine and Business See more media coverage outrageously ambitious * * * * * © Copyright 2011-2023 Duke University | Pratt Intranet\"], 'titles': ['', '', '', '', '', '', '', '', '', ''], 'doc_metas': [{'_split_id': 0}, {'_split_id': 3}, {'_split_id': 4}, {'_split_id': 2}, {'_split_id': 1}, {'_split_id': 1}, {'_split_id': 5}, {'_split_id': 6}, {'_split_id': 1}, {'_split_id': 2}]}}>,\n",
       "  <Answer {'answer': ' duke college of engineering', 'type': 'generative', 'score': None, 'context': None, 'offsets_in_document': None, 'offsets_in_context': None, 'document_ids': ['8ac5c618edf87ef60f6cfb703ad8d98e', '6ad9a9a0d75efa87f008c3a84094a997', 'b5c13e0776f002cedbfeed927620a055', '7bab54b0d21cad535e31cd66d98f755b', '9b3f892980e6dae18f7b1373533408d7', 'e5b86ef2a9583e4e991a454f1fc8d6a8', 'c880c68f7852ce38087067928f5f70e0', 'e2a2def9477f6c06a011823d3dcc7508', 'f70d9c84d5a60b3530898ca92b273353', '529c8feecb3ac0eff13b3512ab1f4186'], 'meta': {'doc_scores': [0.6842600275997561, 0.6695001093427642, 0.6679870914859393, 0.6649212424771971, 0.6615553298375124, 0.6601689040614747, 0.6599819989821073, 0.6574389459378871, 0.6573049316658068, 0.6568630701384175], 'content': [\"## You are here Home » Alumni & Giving # Duke Engineering: A History From its beginnings more than 75 years ago, Duke's Pratt School of Engineering has grown into one of the fastest-rising in the nation On June 3, 1939, the Duke University Board of Trustees approved the creation of the College of Engineering—establishing the school as a cornerstone of the young university. From its beginnings as an undergraduate college with just three faculty members in each department and only 201 students, the School of Engineering has grown into one of the nation’s fastest-rising engineering programs, with nearly 3,000 faculty, staff, and students, 15,000 accomplished alumni, a vibrant research engine and a record of trailblazing achievements that benefit people all over the world. View a text version of this timeline. ## A Brief History of Engineering at Duke The Pratt School of Engineering traces its history back to 1851 when Normal College, a forerunner of Duke University, advertised a Classical course which included engineering for seniors. Normal College became Trinity College in 1859, and engineering was introduced in 1887. The first student to graduate with an engineering degree was C.E.D. Egerton in 1903. When Trinity became Duke University in 1924, engineering underwent vigorous development. In 1927, engineering was organized into separate departments of civil and electrical engineering. The Department of Mechanical Engineering started in 1931. Growth in engineering at Duke in the 1930s closely paralleled the larger departments in arts and sciences. \", 'In 1974, Aleksander S. Vesic, who joined Duke as a professor of civil engineering 10 years earlier, was appointed dean. After Vesic died in 1982, Pearsall stepped in as interim dean until Earl H. Dowell moved to Duke from Princeton to become dean in 1983. ## A 21st-Century Foundation The Nello Teer Library Building opened in 1984. Three years later, the Center for Emerging Cardiovascular Technology at Duke becomes the first National Science Foundation Engineering Research Center (ERC) focused on biomedical research. In 1992, the Hudson Center for Engineering Education opened, followed in 1994 by the Levine Science Research Center, which provided additional space for growing school. In 1997, the Master of Engineering Management Program was established. Kristina M. Johnson joined Duke as engineering dean in 1999. Later that year the school was named for 1947 electrical engineering graduate and philanthropist Edmund T. Pratt Jr., who endowed the school with $35 million. It was at the time the second-largest gift in the university’s history, surpassed only by the original gift from James B. Duke to transform Trinity College into Duke University. The Fitzpatrick Center for Photonics and Communications Systems was established in 2000. Teaching and research space doubled with the 2004 opening of the 322,000-square-foot Fitzpatrick Center for Interdisciplinary Engineering, Medicine and Applied Sciences (FCIEMAS). ', \"Teaching and research space doubled with the 2004 opening of the 322,000-square-foot Fitzpatrick Center for Interdisciplinary Engineering, Medicine and Applied Sciences (FCIEMAS). In recent years the school has dramatically grown its external research funding and major nationally-awarded research centers, its faculty size and prominence, and its student body and selectivity, making Pratt the fastest- rising engineering school in the country in terms of national rankings. ## Our History * Timeline * Commemorative Book ### Duke Engineering Through the Years Take an online view of our 52-page commemorative book, produced in celebration of Duke Engineering's 75th anniversary. ### Timeline – Text Version Browse more than 75 years of Duke Engineering history. outrageously ambitious * * * * * © Copyright 2011-2023 Duke University | Pratt Intranet\", \"## The Postwar Years Engineering at Duke grew quickly during World War II in response to a national shortage of engineers. The first women graduated from the College of Engineering in 1946, and all three engineering departments moved to West Campus in 1947 to a new building that became known as “Old Red” (now named Hudson Hall). In 1951, the university created the Research and Development Program for Engineering, which eventually led to a graduate program and was the foundation for what would become a major national engineering research effort. The R&D program was led by Walter J. Seeley, who came to Duke in 1925 to teach electrical engineering. He became dean in 1953. ## The Changing '60s The doctor of philosophy degree was offered in electrical engineering in 1960, followed by a Ph.D. in civil engineering four years later. James L. Meriam, a professor of mechanical engineering at the University of California, Berkeley, was appointed dean in 1963. The college was named the School of Engineering in 1966 and the school's first black students graduated two years later. The Division of Biomedical Engineering was established in 1967 and in 1971 it became a department--the first ever at a United States university. George Pearsall was named dean in 1969 and three years later the Engineering Annex to Hudson Hall opened. In 1974, Aleksander S. Vesic, who joined Duke as a professor of civil engineering 10 years earlier, was appointed dean. \", \"Growth in engineering at Duke in the 1930s closely paralleled the larger departments in arts and sciences. In 1930, there were four faculty members; and in 1938, there were nine. By 1930, 101 students were studying engineering. When Duke established the Division of Engineering in 1937, there were 167 students. ## A College Is Born Following a study that concluded further advancement of engineering was justified, Duke's Board of Trustees authorized the formation of the College of Engineering in 1939. William H. Hall, who joined the Trinity faculty in 1915 to teach civil engineering, was named the first dean of the new college. With engineering alumni active and organized from 1937 onward and with a student body that had grown to 201 in 1939, the college was on its way. Students in each department competed to show off the latest technological marvels, such as the electrical engineers' display of a newfangled telephone- television booth. By 1937, engineering at Duke had 30,000 square feet of space on East Campus, six times what it had a decade earlier. Engineers were the only men living on East Campus until they moved westward after World War II to join the students of Trinity College of Arts and Sciences. ## The Postwar Years Engineering at Duke grew quickly during World War II in response to a national shortage of engineers. \", \"May 31, 2017 ### New Tech Promises Easier Cervical Cancer Screening “Pocket colposcope” removes need for speculum, may enable self-screening May 26, 2017 ### A Leviathan Lurking in the Foundry Duke's first student Robosub in nearly a decade competes in an international competition May 25, 2017 ### Envisioning the Future of Robots The Amazon Picking Challenge pits Pratt's finest against international professionals and the demands of tomorrow's industrial needs May 22, 2017 ### BME Postdoc Awarded Competitive CPRIT Grant for Cancer Research As part of the CPRIT program, BME's Isaac Hilton will work at Rice University where he will receive funding to study innovative cancer research. May 19, 2017 ### Duke Joins $9.25M Project to Understand Concussion and Improve Recovery Project focuses on the underlying cellular mechanisms of concussion May 18, 2017 ### Scovazzi Named 2017 Alumnus of the Year by Politecnico di Torino The ceremony took place on Sunday May 14, in the Aula Magna of Politecnico May 18, 2017 ### Chakrabarty Wins 2017 IEEE Circuits and Systems Society Technical Achievement Award Computer engineering innovator recognized for work in lab-on-a-chip design automation, 3-D integrated circuits and wireless sensor networks ## Pages * « first * ‹ previous * … * 120 * 121 * 122 * 123 * 124 * 125 * 126 * 127 * 128 * … * next › * last » Search news archives ## Publications ### Duke Engineering Magazine Enjoy long-form deep dives into stories of Duke Engineering's high-impact research. \", 'These focus groups were designed to ensure that representatives from all engineering units and stakeholder groups had an opportunity to participate in the process. Focus groups were held with tenure-track faculty, other regular rank faculty, undergraduate and graduate students, staff, members of Pratt’s Board of Visitors, and deans of all other Duke Schools. Committee members invited and received input from colleagues in faculty meetings and individual conversations. The committee consulted with leaders of the Engineering Alumni Council (EAC) to better understand the alumni perspective. Finally, the committee underwent more typical strategic planning activities including preparing a SWOT (Strengths, Weaknesses Opportunities, Threats) analysis, participating in a long-term visioning exercise, and identifying broad themes and specific recommendations for achieving that vision. ## The Committee Dean Bellamkonda and Craig Henriquez, EFC Chair, formed the Pratt 2039 Steering Committee with input from the Department Chairs. Membership was intended to be representative across departments, ranks, and fields as well as gender and background. The Pratt 2039 Steering Committee members included: * Joseph Izatt, Chair – Michael J. Fitzpatrick Distinguished Professor of Engineering in the Edmund T. School of Engineering * Ana Barros – Edmund T. Pratt, Jr. School Distinguished Professor of Civil and Environmental Engineering * Ken Brown – Associate Professor in the Department of Electrical and Computer Engineering * Warren Grill – Edmund T. Pratt, Jr. ', \"A biographical interview by MIT » * * * ## 1976 ### Frederick P. Brooks. Jr. '53 For contributions to computer system design and the development of academic programs in computer sciences He died on November 17, 2022, at the age of 91. Read his obituary in The New York Times » ### Charles H. Holley, '41 For pioneering contributions to the evolution of turbine-generator design He died on October 9, 2012, at the age of 93. A memorial tribute published by the NAE » * * * ## 1974 ### Lewis M. Branscomb, '45, '71 For leadership in advancing national and international science and technology outrageously ambitious * * * * * © Copyright 2011-2023 Duke University | Pratt Intranet\", \"June 18, 2013 ### Pratt Engineers Awarded Four Department of Defense Grants These highly sought-after grants from the MURI program are designed to promote basic research conducted by consortiums of universities. June 04, 2013 ### Genetic Editing for Duchenne Muscular Dystrophy Duke scientists have developed a way to change the existing mutated gene responsible for the disorder into a normally functioning gene June 03, 2013 ### Alumni Profile: Celine Jimenez Crowson Partner, Hogan Lovells LLP May 30, 2013 ### Searle Scholar Brenton Hoffman Probes the Physical Forces Behind Disease Hoffman says it’s time to focus on a little-studied factor in human development and disease: Physics May 29, 2013 ### George Jordan: Turning a Passion for Technology into a Legal Career Pratt Alumni Profile: George Jordan BSEE’93 May 21, 2013 ### Duke Engineering Celebrates the Class of 2013 A team of Duke engineers used one of the most powerful cameras ever developed to photograph the commencement ceremony May 21, 2013 ### Mechanical Engineering, Biology Intertwined At Stanford, Katrina Wisdom E'12 is combining her love of mechanical engineering, biology and dance May 21, 2013 ### New Method for Producing Clean Hydrogen Duke University engineers have developed a novel method for producing clean hydrogen, which could prove essential to weaning society off of fossil fuels and their environmental implications. \", \"The Pratt Research Fellows program might be right up your alley ## Pages * « first * ‹ previous * … * 13 * 14 * 15 * 16 * 17 * 18 * 19 * 20 * 21 * … * next › * last » Search news archives ## Publications ### Duke Engineering Magazine Enjoy long-form deep dives into stories of Duke Engineering's high-impact research. Read Duke Engineering Magazine » ### DukEngineer Magazine Student-written since the 1940s. Read current and back issues of DukEngineer » **Browse all our** Publications » ## Media Coverage News & Observer | March 29, 2023 ### That Selfie You Posted on Instagram? Companies Are Using It in Unethical Ways Fox News | March 29, 2023 ### Musk's proposed AI pause means China would 'race' past US with 'most powerful' tech, expert says TDWI | March 23, 2023 ### Leveraging the Power of Digital Twins in Medicine and Business See more media coverage outrageously ambitious * * * * * © Copyright 2011-2023 Duke University | Pratt Intranet\"], 'titles': ['', '', '', '', '', '', '', '', '', ''], 'doc_metas': [{'_split_id': 0}, {'_split_id': 3}, {'_split_id': 4}, {'_split_id': 2}, {'_split_id': 1}, {'_split_id': 1}, {'_split_id': 5}, {'_split_id': 6}, {'_split_id': 1}, {'_split_id': 2}]}}>],\n",
       " 'documents': [<Document: {'content': \"## You are here Home » Alumni & Giving # Duke Engineering: A History From its beginnings more than 75 years ago, Duke's Pratt School of Engineering has grown into one of the fastest-rising in the nation On June 3, 1939, the Duke University Board of Trustees approved the creation of the College of Engineering—establishing the school as a cornerstone of the young university. From its beginnings as an undergraduate college with just three faculty members in each department and only 201 students, the School of Engineering has grown into one of the nation’s fastest-rising engineering programs, with nearly 3,000 faculty, staff, and students, 15,000 accomplished alumni, a vibrant research engine and a record of trailblazing achievements that benefit people all over the world. View a text version of this timeline. ## A Brief History of Engineering at Duke The Pratt School of Engineering traces its history back to 1851 when Normal College, a forerunner of Duke University, advertised a Classical course which included engineering for seniors. Normal College became Trinity College in 1859, and engineering was introduced in 1887. The first student to graduate with an engineering degree was C.E.D. Egerton in 1903. When Trinity became Duke University in 1924, engineering underwent vigorous development. In 1927, engineering was organized into separate departments of civil and electrical engineering. The Department of Mechanical Engineering started in 1931. Growth in engineering at Duke in the 1930s closely paralleled the larger departments in arts and sciences. \", 'content_type': 'text', 'score': 0.6842600275997561, 'meta': {'_split_id': 0}, 'id_hash_keys': ['content'], 'embedding': '<embedding of shape (768,)>', 'id': '8ac5c618edf87ef60f6cfb703ad8d98e'}>,\n",
       "  <Document: {'content': 'In 1974, Aleksander S. Vesic, who joined Duke as a professor of civil engineering 10 years earlier, was appointed dean. After Vesic died in 1982, Pearsall stepped in as interim dean until Earl H. Dowell moved to Duke from Princeton to become dean in 1983. ## A 21st-Century Foundation The Nello Teer Library Building opened in 1984. Three years later, the Center for Emerging Cardiovascular Technology at Duke becomes the first National Science Foundation Engineering Research Center (ERC) focused on biomedical research. In 1992, the Hudson Center for Engineering Education opened, followed in 1994 by the Levine Science Research Center, which provided additional space for growing school. In 1997, the Master of Engineering Management Program was established. Kristina M. Johnson joined Duke as engineering dean in 1999. Later that year the school was named for 1947 electrical engineering graduate and philanthropist Edmund T. Pratt Jr., who endowed the school with $35 million. It was at the time the second-largest gift in the university’s history, surpassed only by the original gift from James B. Duke to transform Trinity College into Duke University. The Fitzpatrick Center for Photonics and Communications Systems was established in 2000. Teaching and research space doubled with the 2004 opening of the 322,000-square-foot Fitzpatrick Center for Interdisciplinary Engineering, Medicine and Applied Sciences (FCIEMAS). ', 'content_type': 'text', 'score': 0.6695001093427642, 'meta': {'_split_id': 3}, 'id_hash_keys': ['content'], 'embedding': '<embedding of shape (768,)>', 'id': '6ad9a9a0d75efa87f008c3a84094a997'}>,\n",
       "  <Document: {'content': \"Teaching and research space doubled with the 2004 opening of the 322,000-square-foot Fitzpatrick Center for Interdisciplinary Engineering, Medicine and Applied Sciences (FCIEMAS). In recent years the school has dramatically grown its external research funding and major nationally-awarded research centers, its faculty size and prominence, and its student body and selectivity, making Pratt the fastest- rising engineering school in the country in terms of national rankings. ## Our History * Timeline * Commemorative Book ### Duke Engineering Through the Years Take an online view of our 52-page commemorative book, produced in celebration of Duke Engineering's 75th anniversary. ### Timeline – Text Version Browse more than 75 years of Duke Engineering history. outrageously ambitious * * * * * © Copyright 2011-2023 Duke University | Pratt Intranet\", 'content_type': 'text', 'score': 0.6679870914859393, 'meta': {'_split_id': 4}, 'id_hash_keys': ['content'], 'embedding': '<embedding of shape (768,)>', 'id': 'b5c13e0776f002cedbfeed927620a055'}>,\n",
       "  <Document: {'content': \"## The Postwar Years Engineering at Duke grew quickly during World War II in response to a national shortage of engineers. The first women graduated from the College of Engineering in 1946, and all three engineering departments moved to West Campus in 1947 to a new building that became known as “Old Red” (now named Hudson Hall). In 1951, the university created the Research and Development Program for Engineering, which eventually led to a graduate program and was the foundation for what would become a major national engineering research effort. The R&D program was led by Walter J. Seeley, who came to Duke in 1925 to teach electrical engineering. He became dean in 1953. ## The Changing '60s The doctor of philosophy degree was offered in electrical engineering in 1960, followed by a Ph.D. in civil engineering four years later. James L. Meriam, a professor of mechanical engineering at the University of California, Berkeley, was appointed dean in 1963. The college was named the School of Engineering in 1966 and the school's first black students graduated two years later. The Division of Biomedical Engineering was established in 1967 and in 1971 it became a department--the first ever at a United States university. George Pearsall was named dean in 1969 and three years later the Engineering Annex to Hudson Hall opened. In 1974, Aleksander S. Vesic, who joined Duke as a professor of civil engineering 10 years earlier, was appointed dean. \", 'content_type': 'text', 'score': 0.6649212424771971, 'meta': {'_split_id': 2}, 'id_hash_keys': ['content'], 'embedding': '<embedding of shape (768,)>', 'id': '7bab54b0d21cad535e31cd66d98f755b'}>,\n",
       "  <Document: {'content': \"Growth in engineering at Duke in the 1930s closely paralleled the larger departments in arts and sciences. In 1930, there were four faculty members; and in 1938, there were nine. By 1930, 101 students were studying engineering. When Duke established the Division of Engineering in 1937, there were 167 students. ## A College Is Born Following a study that concluded further advancement of engineering was justified, Duke's Board of Trustees authorized the formation of the College of Engineering in 1939. William H. Hall, who joined the Trinity faculty in 1915 to teach civil engineering, was named the first dean of the new college. With engineering alumni active and organized from 1937 onward and with a student body that had grown to 201 in 1939, the college was on its way. Students in each department competed to show off the latest technological marvels, such as the electrical engineers' display of a newfangled telephone- television booth. By 1937, engineering at Duke had 30,000 square feet of space on East Campus, six times what it had a decade earlier. Engineers were the only men living on East Campus until they moved westward after World War II to join the students of Trinity College of Arts and Sciences. ## The Postwar Years Engineering at Duke grew quickly during World War II in response to a national shortage of engineers. \", 'content_type': 'text', 'score': 0.6615553298375124, 'meta': {'_split_id': 1}, 'id_hash_keys': ['content'], 'embedding': '<embedding of shape (768,)>', 'id': '9b3f892980e6dae18f7b1373533408d7'}>,\n",
       "  <Document: {'content': \"May 31, 2017 ### New Tech Promises Easier Cervical Cancer Screening “Pocket colposcope” removes need for speculum, may enable self-screening May 26, 2017 ### A Leviathan Lurking in the Foundry Duke's first student Robosub in nearly a decade competes in an international competition May 25, 2017 ### Envisioning the Future of Robots The Amazon Picking Challenge pits Pratt's finest against international professionals and the demands of tomorrow's industrial needs May 22, 2017 ### BME Postdoc Awarded Competitive CPRIT Grant for Cancer Research As part of the CPRIT program, BME's Isaac Hilton will work at Rice University where he will receive funding to study innovative cancer research. May 19, 2017 ### Duke Joins $9.25M Project to Understand Concussion and Improve Recovery Project focuses on the underlying cellular mechanisms of concussion May 18, 2017 ### Scovazzi Named 2017 Alumnus of the Year by Politecnico di Torino The ceremony took place on Sunday May 14, in the Aula Magna of Politecnico May 18, 2017 ### Chakrabarty Wins 2017 IEEE Circuits and Systems Society Technical Achievement Award Computer engineering innovator recognized for work in lab-on-a-chip design automation, 3-D integrated circuits and wireless sensor networks ## Pages * « first * ‹ previous * … * 120 * 121 * 122 * 123 * 124 * 125 * 126 * 127 * 128 * … * next › * last » Search news archives ## Publications ### Duke Engineering Magazine Enjoy long-form deep dives into stories of Duke Engineering's high-impact research. \", 'content_type': 'text', 'score': 0.6601689040614747, 'meta': {'_split_id': 1}, 'id_hash_keys': ['content'], 'embedding': '<embedding of shape (768,)>', 'id': 'e5b86ef2a9583e4e991a454f1fc8d6a8'}>,\n",
       "  <Document: {'content': 'These focus groups were designed to ensure that representatives from all engineering units and stakeholder groups had an opportunity to participate in the process. Focus groups were held with tenure-track faculty, other regular rank faculty, undergraduate and graduate students, staff, members of Pratt’s Board of Visitors, and deans of all other Duke Schools. Committee members invited and received input from colleagues in faculty meetings and individual conversations. The committee consulted with leaders of the Engineering Alumni Council (EAC) to better understand the alumni perspective. Finally, the committee underwent more typical strategic planning activities including preparing a SWOT (Strengths, Weaknesses Opportunities, Threats) analysis, participating in a long-term visioning exercise, and identifying broad themes and specific recommendations for achieving that vision. ## The Committee Dean Bellamkonda and Craig Henriquez, EFC Chair, formed the Pratt 2039 Steering Committee with input from the Department Chairs. Membership was intended to be representative across departments, ranks, and fields as well as gender and background. The Pratt 2039 Steering Committee members included: * Joseph Izatt, Chair – Michael J. Fitzpatrick Distinguished Professor of Engineering in the Edmund T. School of Engineering * Ana Barros – Edmund T. Pratt, Jr. School Distinguished Professor of Civil and Environmental Engineering * Ken Brown – Associate Professor in the Department of Electrical and Computer Engineering * Warren Grill – Edmund T. Pratt, Jr. ', 'content_type': 'text', 'score': 0.6599819989821073, 'meta': {'_split_id': 5}, 'id_hash_keys': ['content'], 'embedding': '<embedding of shape (768,)>', 'id': 'c880c68f7852ce38087067928f5f70e0'}>,\n",
       "  <Document: {'content': \"A biographical interview by MIT » * * * ## 1976 ### Frederick P. Brooks. Jr. '53 For contributions to computer system design and the development of academic programs in computer sciences He died on November 17, 2022, at the age of 91. Read his obituary in The New York Times » ### Charles H. Holley, '41 For pioneering contributions to the evolution of turbine-generator design He died on October 9, 2012, at the age of 93. A memorial tribute published by the NAE » * * * ## 1974 ### Lewis M. Branscomb, '45, '71 For leadership in advancing national and international science and technology outrageously ambitious * * * * * © Copyright 2011-2023 Duke University | Pratt Intranet\", 'content_type': 'text', 'score': 0.6574389459378871, 'meta': {'_split_id': 6}, 'id_hash_keys': ['content'], 'embedding': '<embedding of shape (768,)>', 'id': 'e2a2def9477f6c06a011823d3dcc7508'}>,\n",
       "  <Document: {'content': \"June 18, 2013 ### Pratt Engineers Awarded Four Department of Defense Grants These highly sought-after grants from the MURI program are designed to promote basic research conducted by consortiums of universities. June 04, 2013 ### Genetic Editing for Duchenne Muscular Dystrophy Duke scientists have developed a way to change the existing mutated gene responsible for the disorder into a normally functioning gene June 03, 2013 ### Alumni Profile: Celine Jimenez Crowson Partner, Hogan Lovells LLP May 30, 2013 ### Searle Scholar Brenton Hoffman Probes the Physical Forces Behind Disease Hoffman says it’s time to focus on a little-studied factor in human development and disease: Physics May 29, 2013 ### George Jordan: Turning a Passion for Technology into a Legal Career Pratt Alumni Profile: George Jordan BSEE’93 May 21, 2013 ### Duke Engineering Celebrates the Class of 2013 A team of Duke engineers used one of the most powerful cameras ever developed to photograph the commencement ceremony May 21, 2013 ### Mechanical Engineering, Biology Intertwined At Stanford, Katrina Wisdom E'12 is combining her love of mechanical engineering, biology and dance May 21, 2013 ### New Method for Producing Clean Hydrogen Duke University engineers have developed a novel method for producing clean hydrogen, which could prove essential to weaning society off of fossil fuels and their environmental implications. \", 'content_type': 'text', 'score': 0.6573049316658068, 'meta': {'_split_id': 1}, 'id_hash_keys': ['content'], 'embedding': '<embedding of shape (768,)>', 'id': 'f70d9c84d5a60b3530898ca92b273353'}>,\n",
       "  <Document: {'content': \"The Pratt Research Fellows program might be right up your alley ## Pages * « first * ‹ previous * … * 13 * 14 * 15 * 16 * 17 * 18 * 19 * 20 * 21 * … * next › * last » Search news archives ## Publications ### Duke Engineering Magazine Enjoy long-form deep dives into stories of Duke Engineering's high-impact research. Read Duke Engineering Magazine » ### DukEngineer Magazine Student-written since the 1940s. Read current and back issues of DukEngineer » **Browse all our** Publications » ## Media Coverage News & Observer | March 29, 2023 ### That Selfie You Posted on Instagram? Companies Are Using It in Unethical Ways Fox News | March 29, 2023 ### Musk's proposed AI pause means China would 'race' past US with 'most powerful' tech, expert says TDWI | March 23, 2023 ### Leveraging the Power of Digital Twins in Medicine and Business See more media coverage outrageously ambitious * * * * * © Copyright 2011-2023 Duke University | Pratt Intranet\", 'content_type': 'text', 'score': 0.6568630701384175, 'meta': {'_split_id': 2}, 'id_hash_keys': ['content'], 'embedding': '<embedding of shape (768,)>', 'id': '529c8feecb3ac0eff13b3512ab1f4186'}>],\n",
       " 'root_node': 'Query',\n",
       " 'params': {'Generator': {'top_k': 2}, 'Retriever': {'top_k': 10}},\n",
       " 'node_id': 'Generator'}"
      ]
     },
     "execution_count": 41,
     "metadata": {},
     "output_type": "execute_result"
    }
   ],
   "source": [
    "res"
   ]
  },
  {
   "cell_type": "code",
   "execution_count": 42,
   "metadata": {},
   "outputs": [],
   "source": [
    "from haystack.nodes import PromptNode"
   ]
  },
  {
   "cell_type": "code",
   "execution_count": 48,
   "metadata": {},
   "outputs": [],
   "source": [
    "prompt_node = PromptNode(default_prompt_template=\"question-answering\")"
   ]
  },
  {
   "cell_type": "code",
   "execution_count": 49,
   "metadata": {},
   "outputs": [],
   "source": [
    "pipe1 = Pipeline()"
   ]
  },
  {
   "cell_type": "code",
   "execution_count": 50,
   "metadata": {},
   "outputs": [],
   "source": [
    "pipe1.add_node(component=retriever, name=\"Retriever\", inputs=[\"Query\"])\n",
    "pipe1.add_node(component=prompt_node, name=\"prompt_node\", inputs=[\"Retriever\"])"
   ]
  },
  {
   "cell_type": "code",
   "execution_count": 53,
   "metadata": {},
   "outputs": [
    {
     "ename": "Exception",
     "evalue": "Exception while running node 'prompt_node': Expected prompt parameters ['documents', 'questions'] but got ['top_k', 'query', 'documents', 'stop_words'].\nEnable debug logging to see the data that was passed when the pipeline failed.",
     "output_type": "error",
     "traceback": [
      "\u001b[0;31m---------------------------------------------------------------------------\u001b[0m",
      "\u001b[0;31mValueError\u001b[0m                                Traceback (most recent call last)",
      "File \u001b[0;32m~/opt/anaconda3/envs/nlp/lib/python3.8/site-packages/haystack/pipelines/base.py:530\u001b[0m, in \u001b[0;36mPipeline.run\u001b[0;34m(self, query, file_paths, labels, documents, meta, params, debug)\u001b[0m\n\u001b[1;32m    529\u001b[0m     logger\u001b[39m.\u001b[39mdebug(\u001b[39m\"\u001b[39m\u001b[39mRunning node \u001b[39m\u001b[39m'\u001b[39m\u001b[39m%s\u001b[39;00m\u001b[39m` with input: \u001b[39m\u001b[39m%s\u001b[39;00m\u001b[39m\"\u001b[39m, node_id, node_input)\n\u001b[0;32m--> 530\u001b[0m     node_output, stream_id \u001b[39m=\u001b[39m \u001b[39mself\u001b[39;49m\u001b[39m.\u001b[39;49m_run_node(node_id, node_input)\n\u001b[1;32m    531\u001b[0m \u001b[39mexcept\u001b[39;00m \u001b[39mException\u001b[39;00m \u001b[39mas\u001b[39;00m e:\n\u001b[1;32m    532\u001b[0m     \u001b[39m# The input might be a really large object with thousands of embeddings.\u001b[39;00m\n\u001b[1;32m    533\u001b[0m     \u001b[39m# If you really want to see it, raise the log level.\u001b[39;00m\n",
      "File \u001b[0;32m~/opt/anaconda3/envs/nlp/lib/python3.8/site-packages/haystack/pipelines/base.py:457\u001b[0m, in \u001b[0;36mPipeline._run_node\u001b[0;34m(self, node_id, node_input)\u001b[0m\n\u001b[1;32m    456\u001b[0m \u001b[39mdef\u001b[39;00m \u001b[39m_run_node\u001b[39m(\u001b[39mself\u001b[39m, node_id: \u001b[39mstr\u001b[39m, node_input: Dict[\u001b[39mstr\u001b[39m, Any]) \u001b[39m-\u001b[39m\u001b[39m>\u001b[39m Tuple[Dict, \u001b[39mstr\u001b[39m]:\n\u001b[0;32m--> 457\u001b[0m     \u001b[39mreturn\u001b[39;00m \u001b[39mself\u001b[39;49m\u001b[39m.\u001b[39;49mgraph\u001b[39m.\u001b[39;49mnodes[node_id][\u001b[39m\"\u001b[39;49m\u001b[39mcomponent\u001b[39;49m\u001b[39m\"\u001b[39;49m]\u001b[39m.\u001b[39;49m_dispatch_run(\u001b[39m*\u001b[39;49m\u001b[39m*\u001b[39;49mnode_input)\n",
      "File \u001b[0;32m~/opt/anaconda3/envs/nlp/lib/python3.8/site-packages/haystack/nodes/base.py:199\u001b[0m, in \u001b[0;36mBaseComponent._dispatch_run\u001b[0;34m(self, **kwargs)\u001b[0m\n\u001b[1;32m    195\u001b[0m \u001b[39m\"\"\"\u001b[39;00m\n\u001b[1;32m    196\u001b[0m \u001b[39mThe Pipelines call this method when run() is executed. This method in turn executes the _dispatch_run_general()\u001b[39;00m\n\u001b[1;32m    197\u001b[0m \u001b[39mmethod with the correct run method.\u001b[39;00m\n\u001b[1;32m    198\u001b[0m \u001b[39m\"\"\"\u001b[39;00m\n\u001b[0;32m--> 199\u001b[0m \u001b[39mreturn\u001b[39;00m \u001b[39mself\u001b[39;49m\u001b[39m.\u001b[39;49m_dispatch_run_general(\u001b[39mself\u001b[39;49m\u001b[39m.\u001b[39;49mrun, \u001b[39m*\u001b[39;49m\u001b[39m*\u001b[39;49mkwargs)\n",
      "File \u001b[0;32m~/opt/anaconda3/envs/nlp/lib/python3.8/site-packages/haystack/nodes/base.py:243\u001b[0m, in \u001b[0;36mBaseComponent._dispatch_run_general\u001b[0;34m(self, run_method, **kwargs)\u001b[0m\n\u001b[1;32m    241\u001b[0m         run_inputs[key] \u001b[39m=\u001b[39m value\n\u001b[0;32m--> 243\u001b[0m output, stream \u001b[39m=\u001b[39m run_method(\u001b[39m*\u001b[39;49m\u001b[39m*\u001b[39;49mrun_inputs, \u001b[39m*\u001b[39;49m\u001b[39m*\u001b[39;49mrun_params)\n\u001b[1;32m    245\u001b[0m \u001b[39m# Collect debug information\u001b[39;00m\n",
      "File \u001b[0;32m~/opt/anaconda3/envs/nlp/lib/python3.8/site-packages/haystack/nodes/prompt/prompt_node.py:982\u001b[0m, in \u001b[0;36mPromptNode.run\u001b[0;34m(self, query, file_paths, labels, documents, meta, invocation_context)\u001b[0m\n\u001b[1;32m    978\u001b[0m     invocation_context[\u001b[39m\"\u001b[39m\u001b[39mdocuments\u001b[39m\u001b[39m\"\u001b[39m] \u001b[39m=\u001b[39m [\n\u001b[1;32m    979\u001b[0m         doc\u001b[39m.\u001b[39mcontent \u001b[39mif\u001b[39;00m \u001b[39misinstance\u001b[39m(doc, Document) \u001b[39melse\u001b[39;00m doc \u001b[39mfor\u001b[39;00m doc \u001b[39min\u001b[39;00m invocation_context\u001b[39m.\u001b[39mget(\u001b[39m\"\u001b[39m\u001b[39mdocuments\u001b[39m\u001b[39m\"\u001b[39m, [])\n\u001b[1;32m    980\u001b[0m     ]\n\u001b[0;32m--> 982\u001b[0m results \u001b[39m=\u001b[39m \u001b[39mself\u001b[39;49m(prompt_collector\u001b[39m=\u001b[39;49mprompt_collector, \u001b[39m*\u001b[39;49m\u001b[39m*\u001b[39;49minvocation_context)\n\u001b[1;32m    984\u001b[0m invocation_context[\u001b[39mself\u001b[39m\u001b[39m.\u001b[39moutput_variable] \u001b[39m=\u001b[39m results\n",
      "File \u001b[0;32m~/opt/anaconda3/envs/nlp/lib/python3.8/site-packages/haystack/nodes/prompt/prompt_node.py:797\u001b[0m, in \u001b[0;36mPromptNode.__call__\u001b[0;34m(self, *args, **kwargs)\u001b[0m\n\u001b[1;32m    796\u001b[0m \u001b[39melse\u001b[39;00m:\n\u001b[0;32m--> 797\u001b[0m     \u001b[39mreturn\u001b[39;00m \u001b[39mself\u001b[39;49m\u001b[39m.\u001b[39;49mprompt(\u001b[39mself\u001b[39;49m\u001b[39m.\u001b[39;49mdefault_prompt_template, \u001b[39m*\u001b[39;49margs, \u001b[39m*\u001b[39;49m\u001b[39m*\u001b[39;49mkwargs)\n",
      "File \u001b[0;32m~/opt/anaconda3/envs/nlp/lib/python3.8/site-packages/haystack/nodes/prompt/prompt_node.py:830\u001b[0m, in \u001b[0;36mPromptNode.prompt\u001b[0;34m(self, prompt_template, *args, **kwargs)\u001b[0m\n\u001b[1;32m    829\u001b[0m \u001b[39m# prompt template used, yield prompts from inputs args\u001b[39;00m\n\u001b[0;32m--> 830\u001b[0m \u001b[39mfor\u001b[39;00m prompt \u001b[39min\u001b[39;00m template_to_fill\u001b[39m.\u001b[39mfill(\u001b[39m*\u001b[39margs, \u001b[39m*\u001b[39m\u001b[39m*\u001b[39mkwargs):\n\u001b[1;32m    831\u001b[0m     kwargs_copy \u001b[39m=\u001b[39m copy\u001b[39m.\u001b[39mcopy(kwargs)\n",
      "File \u001b[0;32m~/opt/anaconda3/envs/nlp/lib/python3.8/site-packages/haystack/nodes/prompt/prompt_node.py:168\u001b[0m, in \u001b[0;36mPromptTemplate.fill\u001b[0;34m(self, *args, **kwargs)\u001b[0m\n\u001b[1;32m    152\u001b[0m \u001b[39m\"\"\"\u001b[39;00m\n\u001b[1;32m    153\u001b[0m \u001b[39mFills the parameters defined in the prompt text with the arguments passed to it and returns the iterator prompt text.\u001b[39;00m\n\u001b[1;32m    154\u001b[0m \n\u001b[0;32m   (...)\u001b[0m\n\u001b[1;32m    166\u001b[0m \u001b[39m:return: An iterator of prompt texts.\u001b[39;00m\n\u001b[1;32m    167\u001b[0m \u001b[39m\"\"\"\u001b[39;00m\n\u001b[0;32m--> 168\u001b[0m template_dict \u001b[39m=\u001b[39m \u001b[39mself\u001b[39;49m\u001b[39m.\u001b[39;49mprepare(\u001b[39m*\u001b[39;49margs, \u001b[39m*\u001b[39;49m\u001b[39m*\u001b[39;49mkwargs)\n\u001b[1;32m    169\u001b[0m template \u001b[39m=\u001b[39m Template(\u001b[39mself\u001b[39m\u001b[39m.\u001b[39mprompt_text)\n",
      "File \u001b[0;32m~/opt/anaconda3/envs/nlp/lib/python3.8/site-packages/haystack/nodes/prompt/prompt_node.py:147\u001b[0m, in \u001b[0;36mPromptTemplate.prepare\u001b[0;34m(self, *args, **kwargs)\u001b[0m\n\u001b[1;32m    146\u001b[0m     available_params \u001b[39m=\u001b[39m \u001b[39mset\u001b[39m(\u001b[39mlist\u001b[39m(template_dict\u001b[39m.\u001b[39mkeys()) \u001b[39m+\u001b[39m \u001b[39mlist\u001b[39m(\u001b[39mset\u001b[39m(kwargs\u001b[39m.\u001b[39mkeys())))\n\u001b[0;32m--> 147\u001b[0m     \u001b[39mraise\u001b[39;00m \u001b[39mValueError\u001b[39;00m(\u001b[39mf\u001b[39m\u001b[39m\"\u001b[39m\u001b[39mExpected prompt parameters \u001b[39m\u001b[39m{\u001b[39;00m\u001b[39mself\u001b[39m\u001b[39m.\u001b[39mprompt_params\u001b[39m}\u001b[39;00m\u001b[39m but got \u001b[39m\u001b[39m{\u001b[39;00m\u001b[39mlist\u001b[39m(available_params)\u001b[39m}\u001b[39;00m\u001b[39m.\u001b[39m\u001b[39m\"\u001b[39m)\n\u001b[1;32m    149\u001b[0m \u001b[39mreturn\u001b[39;00m template_dict\n",
      "\u001b[0;31mValueError\u001b[0m: Expected prompt parameters ['documents', 'questions'] but got ['top_k', 'query', 'documents', 'stop_words'].",
      "\nThe above exception was the direct cause of the following exception:\n",
      "\u001b[0;31mException\u001b[0m                                 Traceback (most recent call last)",
      "Cell \u001b[0;32mIn[53], line 1\u001b[0m\n\u001b[0;32m----> 1\u001b[0m pipe1\u001b[39m.\u001b[39;49mrun(query\u001b[39m=\u001b[39;49mquery, params\u001b[39m=\u001b[39;49m{\u001b[39m\"\u001b[39;49m\u001b[39mRetriever\u001b[39;49m\u001b[39m\"\u001b[39;49m: {\u001b[39m\"\u001b[39;49m\u001b[39mtop_k\u001b[39;49m\u001b[39m\"\u001b[39;49m: \u001b[39m10\u001b[39;49m}})\n",
      "File \u001b[0;32m~/opt/anaconda3/envs/nlp/lib/python3.8/site-packages/haystack/pipelines/base.py:535\u001b[0m, in \u001b[0;36mPipeline.run\u001b[0;34m(self, query, file_paths, labels, documents, meta, params, debug)\u001b[0m\n\u001b[1;32m    531\u001b[0m \u001b[39mexcept\u001b[39;00m \u001b[39mException\u001b[39;00m \u001b[39mas\u001b[39;00m e:\n\u001b[1;32m    532\u001b[0m     \u001b[39m# The input might be a really large object with thousands of embeddings.\u001b[39;00m\n\u001b[1;32m    533\u001b[0m     \u001b[39m# If you really want to see it, raise the log level.\u001b[39;00m\n\u001b[1;32m    534\u001b[0m     logger\u001b[39m.\u001b[39mdebug(\u001b[39m\"\u001b[39m\u001b[39mException while running node \u001b[39m\u001b[39m'\u001b[39m\u001b[39m%s\u001b[39;00m\u001b[39m'\u001b[39m\u001b[39m with input \u001b[39m\u001b[39m%s\u001b[39;00m\u001b[39m\"\u001b[39m, node_id, node_input)\n\u001b[0;32m--> 535\u001b[0m     \u001b[39mraise\u001b[39;00m \u001b[39mException\u001b[39;00m(\n\u001b[1;32m    536\u001b[0m         \u001b[39mf\u001b[39m\u001b[39m\"\u001b[39m\u001b[39mException while running node \u001b[39m\u001b[39m'\u001b[39m\u001b[39m{\u001b[39;00mnode_id\u001b[39m}\u001b[39;00m\u001b[39m'\u001b[39m\u001b[39m: \u001b[39m\u001b[39m{\u001b[39;00me\u001b[39m}\u001b[39;00m\u001b[39m\\n\u001b[39;00m\u001b[39mEnable debug logging to see the data that was passed when the pipeline failed.\u001b[39m\u001b[39m\"\u001b[39m\n\u001b[1;32m    537\u001b[0m     ) \u001b[39mfrom\u001b[39;00m \u001b[39me\u001b[39;00m\n\u001b[1;32m    538\u001b[0m queue\u001b[39m.\u001b[39mpop(node_id)\n\u001b[1;32m    539\u001b[0m \u001b[39m#\u001b[39;00m\n",
      "\u001b[0;31mException\u001b[0m: Exception while running node 'prompt_node': Expected prompt parameters ['documents', 'questions'] but got ['top_k', 'query', 'documents', 'stop_words'].\nEnable debug logging to see the data that was passed when the pipeline failed."
     ]
    }
   ],
   "source": [
    "pipe1.run(query=query, params={\"Retriever\": {\"top_k\": 10}})"
   ]
  },
  {
   "cell_type": "code",
   "execution_count": null,
   "metadata": {},
   "outputs": [],
   "source": [
    "pipe.add_node(component=node, name=\"prompt_node\", inputs=[\"Query\"])"
   ]
  },
  {
   "cell_type": "code",
   "execution_count": null,
   "metadata": {},
   "outputs": [],
   "source": [
    "prompt_node.prompt(prompt_template=\"question-answering\", \n",
    "          documents=[Document(\"Berlin is the capital of Germany.\"), Document(\"Paris is the capital of France.\")],\n",
    "          query=\"What is the capital of Germany?\")"
   ]
  },
  {
   "cell_type": "code",
   "execution_count": 7,
   "metadata": {},
   "outputs": [
    {
     "name": "stderr",
     "output_type": "stream",
     "text": [
      "PromptNode has been potentially initialized with a language model not fine-tuned on instruction following tasks. Many of the default prompts and PromptTemplates will likely not work as intended. Use custom prompts and PromptTemplates specific to the gpt-3.5-turbo model\n"
     ]
    }
   ],
   "source": [
    "from haystack.nodes import PromptNode\n",
    "\n",
    "# Specify \"gpt-3.5-turbo\" as the model for PromptNode\n",
    "prompt_node = PromptNode(model_name_or_path=\"gpt-3.5-turbo\", api_key=openai_api_key)"
   ]
  },
  {
   "cell_type": "code",
   "execution_count": 8,
   "metadata": {},
   "outputs": [],
   "source": [
    "messages = [{\"role\": \"system\", \"content\": \"You are a helpful assistant\"}]\n",
    "\n",
    "def build_chat(user_input: str = \"\", asistant_input: str = \"\"):\n",
    "    if user_input != \"\":\n",
    "        messages.append({\"role\": \"user\", \"content\": user_input})\n",
    "        \n",
    "    if asistant_input != \"\":\n",
    "        messages.append({\"role\": \"assistant\", \"content\": asistant_input})\n",
    "\n",
    "def chat(input: str):\n",
    "    build_chat(user_input=input)\n",
    "    chat_gpt_answer = prompt_node(messages)\n",
    "    build_chat(asistant_input=chat_gpt_answer[0])\n",
    "    return chat_gpt_answer"
   ]
  },
  {
   "cell_type": "code",
   "execution_count": 9,
   "metadata": {},
   "outputs": [
    {
     "data": {
      "text/plain": [
       "['Barack Obama is married to Michelle Obama.']"
      ]
     },
     "execution_count": 9,
     "metadata": {},
     "output_type": "execute_result"
    }
   ],
   "source": [
    "chat(\"Who is Barack Obama Married to?\")"
   ]
  },
  {
   "cell_type": "code",
   "execution_count": 10,
   "metadata": {},
   "outputs": [],
   "source": [
    "from getpass import getpass"
   ]
  },
  {
   "cell_type": "code",
   "execution_count": 13,
   "metadata": {},
   "outputs": [],
   "source": [
    "from haystack.nodes import PromptTemplate, PromptNode, PromptModel"
   ]
  },
  {
   "cell_type": "code",
   "execution_count": 18,
   "metadata": {},
   "outputs": [],
   "source": [
    "prompt_open_ai = PromptModel(model_name_or_path=\"text-davinci-003\", api_key=openai_api_key)"
   ]
  },
  {
   "cell_type": "code",
   "execution_count": 19,
   "metadata": {},
   "outputs": [],
   "source": [
    "pipe1 = Pipeline()\n",
    "pipe1.add_node(component=retriever, name=\"Retriever\", inputs=[\"Query\"])\n",
    "pipe1.add_node(component=prompt_open_ai, name=\"prompt_node_2\", inputs=[\"Retriever\"])"
   ]
  },
  {
   "cell_type": "code",
   "execution_count": 22,
   "metadata": {},
   "outputs": [
    {
     "name": "stderr",
     "output_type": "stream",
     "text": [
      "/Users/shreygupta/opt/anaconda3/envs/nlp/lib/python3.8/site-packages/elasticsearch/connection/base.py:200: ElasticsearchWarning: Elasticsearch built-in security features are not enabled. Without authentication, your cluster could be accessible to anyone. See https://www.elastic.co/guide/en/elasticsearch/reference/7.17/security-minimal-setup.html to enable security.\n",
      "  warnings.warn(message, category=ElasticsearchWarning)\n"
     ]
    },
    {
     "ename": "Exception",
     "evalue": "Exception while running node 'prompt_node_2': This method should never be implemented in the derived class\nEnable debug logging to see the data that was passed when the pipeline failed.",
     "output_type": "error",
     "traceback": [
      "\u001b[0;31m---------------------------------------------------------------------------\u001b[0m",
      "\u001b[0;31mNotImplementedError\u001b[0m                       Traceback (most recent call last)",
      "File \u001b[0;32m~/opt/anaconda3/envs/nlp/lib/python3.8/site-packages/haystack/pipelines/base.py:552\u001b[0m, in \u001b[0;36mPipeline.run\u001b[0;34m(self, query, file_paths, labels, documents, meta, params, debug)\u001b[0m\n\u001b[1;32m    551\u001b[0m start \u001b[39m=\u001b[39m time()\n\u001b[0;32m--> 552\u001b[0m node_output, stream_id \u001b[39m=\u001b[39m \u001b[39mself\u001b[39;49m\u001b[39m.\u001b[39;49m_run_node(node_id, node_input)\n\u001b[1;32m    553\u001b[0m \u001b[39mif\u001b[39;00m \u001b[39m\"\u001b[39m\u001b[39m_debug\u001b[39m\u001b[39m\"\u001b[39m \u001b[39min\u001b[39;00m node_output \u001b[39mand\u001b[39;00m node_id \u001b[39min\u001b[39;00m node_output[\u001b[39m\"\u001b[39m\u001b[39m_debug\u001b[39m\u001b[39m\"\u001b[39m]:\n",
      "File \u001b[0;32m~/opt/anaconda3/envs/nlp/lib/python3.8/site-packages/haystack/pipelines/base.py:467\u001b[0m, in \u001b[0;36mPipeline._run_node\u001b[0;34m(self, node_id, node_input)\u001b[0m\n\u001b[1;32m    466\u001b[0m \u001b[39mdef\u001b[39;00m \u001b[39m_run_node\u001b[39m(\u001b[39mself\u001b[39m, node_id: \u001b[39mstr\u001b[39m, node_input: Dict[\u001b[39mstr\u001b[39m, Any]) \u001b[39m-\u001b[39m\u001b[39m>\u001b[39m Tuple[Dict, \u001b[39mstr\u001b[39m]:\n\u001b[0;32m--> 467\u001b[0m     \u001b[39mreturn\u001b[39;00m \u001b[39mself\u001b[39;49m\u001b[39m.\u001b[39;49mgraph\u001b[39m.\u001b[39;49mnodes[node_id][\u001b[39m\"\u001b[39;49m\u001b[39mcomponent\u001b[39;49m\u001b[39m\"\u001b[39;49m]\u001b[39m.\u001b[39;49m_dispatch_run(\u001b[39m*\u001b[39;49m\u001b[39m*\u001b[39;49mnode_input)\n",
      "File \u001b[0;32m~/opt/anaconda3/envs/nlp/lib/python3.8/site-packages/haystack/nodes/base.py:201\u001b[0m, in \u001b[0;36mBaseComponent._dispatch_run\u001b[0;34m(self, **kwargs)\u001b[0m\n\u001b[1;32m    197\u001b[0m \u001b[39m\"\"\"\u001b[39;00m\n\u001b[1;32m    198\u001b[0m \u001b[39mThe Pipelines call this method when run() is executed. This method in turn executes the _dispatch_run_general()\u001b[39;00m\n\u001b[1;32m    199\u001b[0m \u001b[39mmethod with the correct run method.\u001b[39;00m\n\u001b[1;32m    200\u001b[0m \u001b[39m\"\"\"\u001b[39;00m\n\u001b[0;32m--> 201\u001b[0m \u001b[39mreturn\u001b[39;00m \u001b[39mself\u001b[39;49m\u001b[39m.\u001b[39;49m_dispatch_run_general(\u001b[39mself\u001b[39;49m\u001b[39m.\u001b[39;49mrun, \u001b[39m*\u001b[39;49m\u001b[39m*\u001b[39;49mkwargs)\n",
      "File \u001b[0;32m~/opt/anaconda3/envs/nlp/lib/python3.8/site-packages/haystack/nodes/base.py:245\u001b[0m, in \u001b[0;36mBaseComponent._dispatch_run_general\u001b[0;34m(self, run_method, **kwargs)\u001b[0m\n\u001b[1;32m    243\u001b[0m         run_inputs[key] \u001b[39m=\u001b[39m value\n\u001b[0;32m--> 245\u001b[0m output, stream \u001b[39m=\u001b[39m run_method(\u001b[39m*\u001b[39;49m\u001b[39m*\u001b[39;49mrun_inputs, \u001b[39m*\u001b[39;49m\u001b[39m*\u001b[39;49mrun_params)\n\u001b[1;32m    247\u001b[0m \u001b[39m# Collect debug information\u001b[39;00m\n",
      "File \u001b[0;32m~/opt/anaconda3/envs/nlp/lib/python3.8/site-packages/haystack/nodes/prompt/prompt_node.py:521\u001b[0m, in \u001b[0;36mPromptModel.run\u001b[0;34m(self, query, file_paths, labels, documents, meta)\u001b[0m\n\u001b[1;32m    513\u001b[0m \u001b[39mdef\u001b[39;00m \u001b[39mrun\u001b[39m(\n\u001b[1;32m    514\u001b[0m     \u001b[39mself\u001b[39m,\n\u001b[1;32m    515\u001b[0m     query: Optional[\u001b[39mstr\u001b[39m] \u001b[39m=\u001b[39m \u001b[39mNone\u001b[39;00m,\n\u001b[0;32m   (...)\u001b[0m\n\u001b[1;32m    519\u001b[0m     meta: Optional[\u001b[39mdict\u001b[39m] \u001b[39m=\u001b[39m \u001b[39mNone\u001b[39;00m,\n\u001b[1;32m    520\u001b[0m ) \u001b[39m-\u001b[39m\u001b[39m>\u001b[39m Tuple[Dict, \u001b[39mstr\u001b[39m]:\n\u001b[0;32m--> 521\u001b[0m     \u001b[39mraise\u001b[39;00m \u001b[39mNotImplementedError\u001b[39;00m(\u001b[39m\"\u001b[39m\u001b[39mThis method should never be implemented in the derived class\u001b[39m\u001b[39m\"\u001b[39m)\n",
      "\u001b[0;31mNotImplementedError\u001b[0m: This method should never be implemented in the derived class",
      "\nThe above exception was the direct cause of the following exception:\n",
      "\u001b[0;31mException\u001b[0m                                 Traceback (most recent call last)",
      "Cell \u001b[0;32mIn[22], line 1\u001b[0m\n\u001b[0;32m----> 1\u001b[0m pipe1\u001b[39m.\u001b[39;49mrun(query\u001b[39m=\u001b[39;49mquery)\n",
      "File \u001b[0;32m~/opt/anaconda3/envs/nlp/lib/python3.8/site-packages/haystack/pipelines/base.py:559\u001b[0m, in \u001b[0;36mPipeline.run\u001b[0;34m(self, query, file_paths, labels, documents, meta, params, debug)\u001b[0m\n\u001b[1;32m    555\u001b[0m \u001b[39mexcept\u001b[39;00m \u001b[39mException\u001b[39;00m \u001b[39mas\u001b[39;00m e:\n\u001b[1;32m    556\u001b[0m     \u001b[39m# The input might be a really large object with thousands of embeddings.\u001b[39;00m\n\u001b[1;32m    557\u001b[0m     \u001b[39m# If you really want to see it, raise the log level.\u001b[39;00m\n\u001b[1;32m    558\u001b[0m     logger\u001b[39m.\u001b[39mdebug(\u001b[39m\"\u001b[39m\u001b[39mException while running node \u001b[39m\u001b[39m'\u001b[39m\u001b[39m%s\u001b[39;00m\u001b[39m'\u001b[39m\u001b[39m with input \u001b[39m\u001b[39m%s\u001b[39;00m\u001b[39m\"\u001b[39m, node_id, node_input)\n\u001b[0;32m--> 559\u001b[0m     \u001b[39mraise\u001b[39;00m \u001b[39mException\u001b[39;00m(\n\u001b[1;32m    560\u001b[0m         \u001b[39mf\u001b[39m\u001b[39m\"\u001b[39m\u001b[39mException while running node \u001b[39m\u001b[39m'\u001b[39m\u001b[39m{\u001b[39;00mnode_id\u001b[39m}\u001b[39;00m\u001b[39m'\u001b[39m\u001b[39m: \u001b[39m\u001b[39m{\u001b[39;00me\u001b[39m}\u001b[39;00m\u001b[39m\\n\u001b[39;00m\u001b[39mEnable debug logging to see the data that was passed when the pipeline failed.\u001b[39m\u001b[39m\"\u001b[39m\n\u001b[1;32m    561\u001b[0m     ) \u001b[39mfrom\u001b[39;00m \u001b[39me\u001b[39;00m\n\u001b[1;32m    562\u001b[0m queue\u001b[39m.\u001b[39mpop(node_id)\n\u001b[1;32m    563\u001b[0m \u001b[39m#\u001b[39;00m\n",
      "\u001b[0;31mException\u001b[0m: Exception while running node 'prompt_node_2': This method should never be implemented in the derived class\nEnable debug logging to see the data that was passed when the pipeline failed."
     ]
    }
   ],
   "source": [
    "pipe1.run(query=query)"
   ]
  },
  {
   "cell_type": "code",
   "execution_count": null,
   "metadata": {},
   "outputs": [],
   "source": [
    "\n",
    "pipe1.add_node(component=prompt_node, name=\"prompt_node\", inputs=[\"Retriever\"])"
   ]
  },
  {
   "cell_type": "code",
   "execution_count": null,
   "metadata": {},
   "outputs": [],
   "source": [
    "\n",
    "pipe.add_node(component=node_openai, name=\"prompt_node_2\", inputs=[\"prompt_node1\"])\n",
    "output = pipe.run(query=\"not relevant\", documents=[Document(\"Berlin is the capital of Germany\")]"
   ]
  }
 ],
 "metadata": {
  "kernelspec": {
   "display_name": "nlp",
   "language": "python",
   "name": "python3"
  },
  "language_info": {
   "codemirror_mode": {
    "name": "ipython",
    "version": 3
   },
   "file_extension": ".py",
   "mimetype": "text/x-python",
   "name": "python",
   "nbconvert_exporter": "python",
   "pygments_lexer": "ipython3",
   "version": "3.8.16"
  },
  "orig_nbformat": 4
 },
 "nbformat": 4,
 "nbformat_minor": 2
}
