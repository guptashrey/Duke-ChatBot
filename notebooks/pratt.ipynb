{
 "cells": [
  {
   "cell_type": "code",
   "execution_count": 1,
   "metadata": {},
   "outputs": [],
   "source": [
    "from bs4 import BeautifulSoup\n",
    "import requests\n",
    "import html2text\n",
    "import json\n",
    "from tqdm import tqdm\n",
    "import os"
   ]
  },
  {
   "cell_type": "code",
   "execution_count": 2,
   "metadata": {},
   "outputs": [],
   "source": [
    "h = html2text.HTML2Text()\n",
    "h.wrap_list_items = True\n",
    "h.ignore_images = True\n",
    "h.ignore_links = True\n",
    "h.ignore_tables = True"
   ]
  },
  {
   "cell_type": "code",
   "execution_count": 3,
   "metadata": {},
   "outputs": [],
   "source": [
    "url_list = [i for i in json.load(open('pratt_duke_edu.json')).keys()]"
   ]
  },
  {
   "cell_type": "code",
   "execution_count": 11,
   "metadata": {},
   "outputs": [],
   "source": [
    "url_list = url_list[1645:]"
   ]
  },
  {
   "cell_type": "code",
   "execution_count": 12,
   "metadata": {},
   "outputs": [
    {
     "name": "stderr",
     "output_type": "stream",
     "text": [
      "  5%|▍         | 62/1279 [00:37<11:11,  1.81it/s]Some characters could not be decoded, and were replaced with REPLACEMENT CHARACTER.\n",
      " 27%|██▋       | 339/1279 [03:29<09:33,  1.64it/s]Some characters could not be decoded, and were replaced with REPLACEMENT CHARACTER.\n",
      " 27%|██▋       | 346/1279 [03:33<08:39,  1.79it/s]Some characters could not be decoded, and were replaced with REPLACEMENT CHARACTER.\n",
      " 31%|███▏      | 401/1279 [04:08<08:22,  1.75it/s]Some characters could not be decoded, and were replaced with REPLACEMENT CHARACTER.\n",
      " 31%|███▏      | 402/1279 [04:10<16:57,  1.16s/it]Some characters could not be decoded, and were replaced with REPLACEMENT CHARACTER.\n",
      " 32%|███▏      | 403/1279 [04:12<19:17,  1.32s/it]Some characters could not be decoded, and were replaced with REPLACEMENT CHARACTER.\n",
      " 32%|███▏      | 404/1279 [04:16<32:35,  2.24s/it]Some characters could not be decoded, and were replaced with REPLACEMENT CHARACTER.\n",
      " 32%|███▏      | 415/1279 [04:27<10:24,  1.38it/s]Some characters could not be decoded, and were replaced with REPLACEMENT CHARACTER.\n",
      " 33%|███▎      | 417/1279 [04:28<08:39,  1.66it/s]Some characters could not be decoded, and were replaced with REPLACEMENT CHARACTER.\n",
      " 33%|███▎      | 420/1279 [04:30<07:58,  1.80it/s]Some characters could not be decoded, and were replaced with REPLACEMENT CHARACTER.\n",
      " 33%|███▎      | 426/1279 [04:33<07:58,  1.78it/s]Some characters could not be decoded, and were replaced with REPLACEMENT CHARACTER.\n",
      " 36%|███▌      | 457/1279 [04:48<04:59,  2.75it/s]Some characters could not be decoded, and were replaced with REPLACEMENT CHARACTER.\n",
      " 42%|████▏     | 543/1279 [05:42<04:27,  2.75it/s]Some characters could not be decoded, and were replaced with REPLACEMENT CHARACTER.\n",
      " 43%|████▎     | 544/1279 [05:42<05:10,  2.37it/s]Some characters could not be decoded, and were replaced with REPLACEMENT CHARACTER.\n",
      " 43%|████▎     | 545/1279 [05:43<05:49,  2.10it/s]Some characters could not be decoded, and were replaced with REPLACEMENT CHARACTER.\n",
      " 61%|██████    | 774/1279 [08:22<04:56,  1.70it/s]Some characters could not be decoded, and were replaced with REPLACEMENT CHARACTER.\n",
      " 79%|███████▊  | 1005/1279 [10:48<02:49,  1.61it/s]Some characters could not be decoded, and were replaced with REPLACEMENT CHARACTER.\n",
      " 91%|█████████ | 1161/1279 [12:23<01:25,  1.38it/s]Some characters could not be decoded, and were replaced with REPLACEMENT CHARACTER.\n",
      " 96%|█████████▌| 1225/1279 [13:02<00:24,  2.16it/s]Some characters could not be decoded, and were replaced with REPLACEMENT CHARACTER.\n",
      "100%|██████████| 1279/1279 [13:25<00:00,  1.59it/s]\n"
     ]
    }
   ],
   "source": [
    "for i in tqdm(url_list):\n",
    "    session = requests.session()\n",
    "    req = session.get(i)\n",
    "    doc = BeautifulSoup(req.content)\n",
    "    \n",
    "    text = i + h.handle(str(doc))\n",
    "    \n",
    "    file_name = i.replace('https://', '') + '.txt'\n",
    "    #print(file_name)\n",
    "    os.makedirs(os.path.dirname(file_name), exist_ok=True)\n",
    "    with open(file_name, 'w') as f:\n",
    "        f.write(h.handle(str(doc)))"
   ]
  },
  {
   "cell_type": "code",
   "execution_count": null,
   "metadata": {},
   "outputs": [],
   "source": []
  }
 ],
 "metadata": {
  "kernelspec": {
   "display_name": "base",
   "language": "python",
   "name": "python3"
  },
  "language_info": {
   "codemirror_mode": {
    "name": "ipython",
    "version": 3
   },
   "file_extension": ".py",
   "mimetype": "text/x-python",
   "name": "python",
   "nbconvert_exporter": "python",
   "pygments_lexer": "ipython3",
   "version": "3.8.16"
  },
  "orig_nbformat": 4
 },
 "nbformat": 4,
 "nbformat_minor": 2
}
